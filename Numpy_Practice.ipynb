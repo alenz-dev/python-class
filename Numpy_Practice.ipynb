{
 "cells": [
  {
   "cell_type": "code",
   "execution_count": 14,
   "id": "6b22a777",
   "metadata": {},
   "outputs": [],
   "source": [
    "import numpy as np\n",
    "import pandas as pd"
   ]
  },
  {
   "cell_type": "code",
   "execution_count": 15,
   "id": "321e6fd3",
   "metadata": {},
   "outputs": [],
   "source": [
    "a = [2, 5, 7]"
   ]
  },
  {
   "cell_type": "code",
   "execution_count": 16,
   "id": "3f6b4e55",
   "metadata": {},
   "outputs": [],
   "source": [
    "b = [3, 12, 27]"
   ]
  },
  {
   "cell_type": "code",
   "execution_count": 17,
   "id": "3334079d",
   "metadata": {},
   "outputs": [
    {
     "data": {
      "text/plain": [
       "[2, 5, 7, 3, 12, 27]"
      ]
     },
     "execution_count": 17,
     "metadata": {},
     "output_type": "execute_result"
    }
   ],
   "source": [
    "a+b"
   ]
  },
  {
   "cell_type": "code",
   "execution_count": 18,
   "id": "400abe43",
   "metadata": {},
   "outputs": [],
   "source": [
    "c = [m+n for m, n in zip(a,b)]"
   ]
  },
  {
   "cell_type": "code",
   "execution_count": 19,
   "id": "1da29ce4",
   "metadata": {},
   "outputs": [
    {
     "data": {
      "text/plain": [
       "[5, 17, 34]"
      ]
     },
     "execution_count": 19,
     "metadata": {},
     "output_type": "execute_result"
    }
   ],
   "source": [
    "c"
   ]
  },
  {
   "cell_type": "code",
   "execution_count": 20,
   "id": "5f8525c9",
   "metadata": {},
   "outputs": [
    {
     "data": {
      "text/plain": [
       "14"
      ]
     },
     "execution_count": 20,
     "metadata": {},
     "output_type": "execute_result"
    }
   ],
   "source": [
    "sum(a)"
   ]
  },
  {
   "cell_type": "code",
   "execution_count": 21,
   "id": "c3cd1fbc",
   "metadata": {},
   "outputs": [],
   "source": [
    "np_a = np.array(a)"
   ]
  },
  {
   "cell_type": "code",
   "execution_count": 22,
   "id": "a598c170",
   "metadata": {},
   "outputs": [],
   "source": [
    "np_b = np.array(b)"
   ]
  },
  {
   "cell_type": "code",
   "execution_count": 23,
   "id": "f4c2d368",
   "metadata": {},
   "outputs": [
    {
     "data": {
      "text/plain": [
       "array([ 5, 17, 34])"
      ]
     },
     "execution_count": 23,
     "metadata": {},
     "output_type": "execute_result"
    }
   ],
   "source": [
    "np_a + np_b"
   ]
  },
  {
   "cell_type": "code",
   "execution_count": 24,
   "id": "53ea6f88",
   "metadata": {},
   "outputs": [],
   "source": [
    "p = np.array([1,2,\"abc\"])"
   ]
  },
  {
   "cell_type": "code",
   "execution_count": 25,
   "id": "7596c7fc",
   "metadata": {},
   "outputs": [
    {
     "data": {
      "text/plain": [
       "array(['1', '2', 'abc'], dtype='<U11')"
      ]
     },
     "execution_count": 25,
     "metadata": {},
     "output_type": "execute_result"
    }
   ],
   "source": [
    "p"
   ]
  },
  {
   "cell_type": "code",
   "execution_count": 26,
   "id": "2427f9d5",
   "metadata": {},
   "outputs": [
    {
     "ename": "UFuncTypeError",
     "evalue": "ufunc 'add' did not contain a loop with signature matching types (dtype('<U11'), dtype('int32')) -> None",
     "output_type": "error",
     "traceback": [
      "\u001b[1;31m---------------------------------------------------------------------------\u001b[0m",
      "\u001b[1;31mUFuncTypeError\u001b[0m                            Traceback (most recent call last)",
      "Cell \u001b[1;32mIn[26], line 1\u001b[0m\n\u001b[1;32m----> 1\u001b[0m \u001b[43mp\u001b[49m\u001b[38;5;241;43m+\u001b[39;49m\u001b[43m \u001b[49m\u001b[43mnp_a\u001b[49m\n",
      "\u001b[1;31mUFuncTypeError\u001b[0m: ufunc 'add' did not contain a loop with signature matching types (dtype('<U11'), dtype('int32')) -> None"
     ]
    }
   ],
   "source": [
    "p+ np_a"
   ]
  },
  {
   "cell_type": "code",
   "execution_count": 27,
   "id": "9a9fd1eb",
   "metadata": {},
   "outputs": [
    {
     "data": {
      "text/plain": [
       "7"
      ]
     },
     "execution_count": 27,
     "metadata": {},
     "output_type": "execute_result"
    }
   ],
   "source": [
    "np_a.max()"
   ]
  },
  {
   "cell_type": "code",
   "execution_count": 28,
   "id": "6b20d0cb",
   "metadata": {},
   "outputs": [
    {
     "data": {
      "text/plain": [
       "4.666666666666667"
      ]
     },
     "execution_count": 28,
     "metadata": {},
     "output_type": "execute_result"
    }
   ],
   "source": [
    "np_a.mean()"
   ]
  },
  {
   "cell_type": "code",
   "execution_count": 29,
   "id": "cdb4fb5a",
   "metadata": {},
   "outputs": [
    {
     "data": {
      "text/plain": [
       "array([1., 1., 1.])"
      ]
     },
     "execution_count": 29,
     "metadata": {},
     "output_type": "execute_result"
    }
   ],
   "source": [
    "np.ones(3)"
   ]
  },
  {
   "cell_type": "code",
   "execution_count": 30,
   "id": "2f91e614",
   "metadata": {},
   "outputs": [
    {
     "data": {
      "text/plain": [
       "array([0., 0., 0.])"
      ]
     },
     "execution_count": 30,
     "metadata": {},
     "output_type": "execute_result"
    }
   ],
   "source": [
    "np.zeros(3)"
   ]
  },
  {
   "cell_type": "code",
   "execution_count": 31,
   "id": "0f506dcf",
   "metadata": {},
   "outputs": [
    {
     "data": {
      "text/plain": [
       "array([2., 5., 7.])"
      ]
     },
     "execution_count": 31,
     "metadata": {},
     "output_type": "execute_result"
    }
   ],
   "source": [
    "np_a*np.ones(3)"
   ]
  },
  {
   "cell_type": "code",
   "execution_count": 32,
   "id": "bddabd58",
   "metadata": {},
   "outputs": [
    {
     "data": {
      "text/plain": [
       "array([ 6, 15, 21])"
      ]
     },
     "execution_count": 32,
     "metadata": {},
     "output_type": "execute_result"
    }
   ],
   "source": [
    "np_a*[3]"
   ]
  },
  {
   "cell_type": "code",
   "execution_count": 33,
   "id": "bcfb05a5",
   "metadata": {},
   "outputs": [
    {
     "data": {
      "text/plain": [
       "array([ 4.4, 11. , 15.4])"
      ]
     },
     "execution_count": 33,
     "metadata": {},
     "output_type": "execute_result"
    }
   ],
   "source": [
    "np_a*np.array([2.2])"
   ]
  },
  {
   "cell_type": "code",
   "execution_count": 34,
   "id": "5c2dbd16",
   "metadata": {},
   "outputs": [
    {
     "ename": "ValueError",
     "evalue": "operands could not be broadcast together with shapes (3,) (2,) ",
     "output_type": "error",
     "traceback": [
      "\u001b[1;31m---------------------------------------------------------------------------\u001b[0m",
      "\u001b[1;31mValueError\u001b[0m                                Traceback (most recent call last)",
      "Cell \u001b[1;32mIn[34], line 1\u001b[0m\n\u001b[1;32m----> 1\u001b[0m \u001b[43mnp_a\u001b[49m\u001b[38;5;241;43m*\u001b[39;49m\u001b[43mnp\u001b[49m\u001b[38;5;241;43m.\u001b[39;49m\u001b[43marray\u001b[49m\u001b[43m(\u001b[49m\u001b[43m[\u001b[49m\u001b[38;5;241;43m2.2\u001b[39;49m\u001b[43m,\u001b[49m\u001b[38;5;241;43m3.2\u001b[39;49m\u001b[43m]\u001b[49m\u001b[43m)\u001b[49m\n",
      "\u001b[1;31mValueError\u001b[0m: operands could not be broadcast together with shapes (3,) (2,) "
     ]
    }
   ],
   "source": [
    "np_a*np.array([2.2,3.2])"
   ]
  },
  {
   "cell_type": "code",
   "execution_count": 35,
   "id": "447c664f",
   "metadata": {},
   "outputs": [
    {
     "data": {
      "text/plain": [
       "5"
      ]
     },
     "execution_count": 35,
     "metadata": {},
     "output_type": "execute_result"
    }
   ],
   "source": [
    "np_a[1]"
   ]
  },
  {
   "cell_type": "code",
   "execution_count": 36,
   "id": "121df768",
   "metadata": {},
   "outputs": [
    {
     "data": {
      "text/plain": [
       "array([5, 7])"
      ]
     },
     "execution_count": 36,
     "metadata": {},
     "output_type": "execute_result"
    }
   ],
   "source": [
    "np_a[1:]"
   ]
  },
  {
   "cell_type": "code",
   "execution_count": 37,
   "id": "b57d393a",
   "metadata": {},
   "outputs": [
    {
     "data": {
      "text/plain": [
       "array([2, 5])"
      ]
     },
     "execution_count": 37,
     "metadata": {},
     "output_type": "execute_result"
    }
   ],
   "source": [
    "np_a[0:2]"
   ]
  },
  {
   "cell_type": "code",
   "execution_count": 38,
   "id": "20a1d70e",
   "metadata": {},
   "outputs": [],
   "source": [
    "np_2d = np.array([[1,2],[3,4]])"
   ]
  },
  {
   "cell_type": "code",
   "execution_count": 39,
   "id": "742f24d3",
   "metadata": {},
   "outputs": [
    {
     "data": {
      "text/plain": [
       "10"
      ]
     },
     "execution_count": 39,
     "metadata": {},
     "output_type": "execute_result"
    }
   ],
   "source": [
    "np_2d.sum()"
   ]
  },
  {
   "cell_type": "code",
   "execution_count": 40,
   "id": "bc4a4677",
   "metadata": {},
   "outputs": [
    {
     "data": {
      "text/plain": [
       "array([4, 6])"
      ]
     },
     "execution_count": 40,
     "metadata": {},
     "output_type": "execute_result"
    }
   ],
   "source": [
    "np_2d.sum(axis=0)"
   ]
  },
  {
   "cell_type": "code",
   "execution_count": 41,
   "id": "82349735",
   "metadata": {},
   "outputs": [
    {
     "data": {
      "text/plain": [
       "array([3, 7])"
      ]
     },
     "execution_count": 41,
     "metadata": {},
     "output_type": "execute_result"
    }
   ],
   "source": [
    "np_2d.sum(axis=1)"
   ]
  },
  {
   "cell_type": "code",
   "execution_count": 42,
   "id": "05b1b764",
   "metadata": {},
   "outputs": [
    {
     "ename": "TypeError",
     "evalue": "'numpy.ndarray' object is not callable",
     "output_type": "error",
     "traceback": [
      "\u001b[1;31m---------------------------------------------------------------------------\u001b[0m",
      "\u001b[1;31mTypeError\u001b[0m                                 Traceback (most recent call last)",
      "Cell \u001b[1;32mIn[42], line 1\u001b[0m\n\u001b[1;32m----> 1\u001b[0m \u001b[43mnp_2d\u001b[49m\u001b[38;5;241;43m.\u001b[39;49m\u001b[43mT\u001b[49m\u001b[43m(\u001b[49m\u001b[43m)\u001b[49m\n",
      "\u001b[1;31mTypeError\u001b[0m: 'numpy.ndarray' object is not callable"
     ]
    }
   ],
   "source": [
    "np_2d.T()"
   ]
  },
  {
   "cell_type": "code",
   "execution_count": 43,
   "id": "c0bfe2d8",
   "metadata": {},
   "outputs": [
    {
     "data": {
      "text/plain": [
       "array([[1, 3],\n",
       "       [2, 4]])"
      ]
     },
     "execution_count": 43,
     "metadata": {},
     "output_type": "execute_result"
    }
   ],
   "source": [
    "np_2d.T"
   ]
  },
  {
   "cell_type": "code",
   "execution_count": 44,
   "id": "9815b626",
   "metadata": {},
   "outputs": [
    {
     "data": {
      "text/plain": [
       "array([[1., 1.],\n",
       "       [1., 1.]])"
      ]
     },
     "execution_count": 44,
     "metadata": {},
     "output_type": "execute_result"
    }
   ],
   "source": [
    "np.ones([2,2])"
   ]
  },
  {
   "cell_type": "code",
   "execution_count": 45,
   "id": "a2a19ba4",
   "metadata": {},
   "outputs": [
    {
     "data": {
      "text/plain": [
       "array([[1., 0.],\n",
       "       [0., 1.]])"
      ]
     },
     "execution_count": 45,
     "metadata": {},
     "output_type": "execute_result"
    }
   ],
   "source": [
    "np.eye(2)"
   ]
  },
  {
   "cell_type": "code",
   "execution_count": 46,
   "id": "57213d72",
   "metadata": {},
   "outputs": [
    {
     "data": {
      "text/plain": [
       "array([[1, 2],\n",
       "       [3, 4]])"
      ]
     },
     "execution_count": 46,
     "metadata": {},
     "output_type": "execute_result"
    }
   ],
   "source": [
    "np_2d"
   ]
  },
  {
   "cell_type": "code",
   "execution_count": 47,
   "id": "54583779",
   "metadata": {},
   "outputs": [
    {
     "data": {
      "text/plain": [
       "array([[2., 3.],\n",
       "       [4., 5.]])"
      ]
     },
     "execution_count": 47,
     "metadata": {},
     "output_type": "execute_result"
    }
   ],
   "source": [
    "np_2d+np.ones([2,2])"
   ]
  },
  {
   "cell_type": "code",
   "execution_count": 48,
   "id": "87eadd94",
   "metadata": {},
   "outputs": [
    {
     "data": {
      "text/plain": [
       "array([[2., 3.],\n",
       "       [4., 5.]])"
      ]
     },
     "execution_count": 48,
     "metadata": {},
     "output_type": "execute_result"
    }
   ],
   "source": [
    "np_2d+np.ones(2)"
   ]
  },
  {
   "cell_type": "code",
   "execution_count": 49,
   "id": "8d0ca5db",
   "metadata": {},
   "outputs": [
    {
     "data": {
      "text/plain": [
       "array([[2., 3.],\n",
       "       [4., 5.]])"
      ]
     },
     "execution_count": 49,
     "metadata": {},
     "output_type": "execute_result"
    }
   ],
   "source": [
    "np_2d+np.ones([2,1])"
   ]
  },
  {
   "cell_type": "code",
   "execution_count": 50,
   "id": "e19aacc8",
   "metadata": {},
   "outputs": [],
   "source": [
    "np_dotp = np_2d.dot(np.array([[1,10,100],[1000,100,10]]))"
   ]
  },
  {
   "cell_type": "code",
   "execution_count": 51,
   "id": "91cf6331",
   "metadata": {},
   "outputs": [
    {
     "data": {
      "text/plain": [
       "array([[2001,  210,  120],\n",
       "       [4003,  430,  340]])"
      ]
     },
     "execution_count": 51,
     "metadata": {},
     "output_type": "execute_result"
    }
   ],
   "source": [
    "np_dotp"
   ]
  },
  {
   "cell_type": "code",
   "execution_count": 52,
   "id": "98ae8064",
   "metadata": {},
   "outputs": [
    {
     "data": {
      "text/plain": [
       "210"
      ]
     },
     "execution_count": 52,
     "metadata": {},
     "output_type": "execute_result"
    }
   ],
   "source": [
    "np_dotp[0,1]"
   ]
  },
  {
   "cell_type": "code",
   "execution_count": 53,
   "id": "cbc1b40b",
   "metadata": {},
   "outputs": [
    {
     "data": {
      "text/plain": [
       "array([[4003,  430,  340]])"
      ]
     },
     "execution_count": 53,
     "metadata": {},
     "output_type": "execute_result"
    }
   ],
   "source": [
    "np_dotp[1:3]"
   ]
  },
  {
   "cell_type": "code",
   "execution_count": 54,
   "id": "45186705",
   "metadata": {},
   "outputs": [
    {
     "data": {
      "text/plain": [
       "array([2001, 4003])"
      ]
     },
     "execution_count": 54,
     "metadata": {},
     "output_type": "execute_result"
    }
   ],
   "source": [
    "np_dotp[0:2,0]"
   ]
  },
  {
   "cell_type": "code",
   "execution_count": 55,
   "id": "b1c39f6a",
   "metadata": {},
   "outputs": [],
   "source": [
    "np_rs = np.array([1,2,3,4,5,6])"
   ]
  },
  {
   "cell_type": "code",
   "execution_count": 56,
   "id": "f2feaa22",
   "metadata": {},
   "outputs": [
    {
     "data": {
      "text/plain": [
       "array([1, 2, 3, 4, 5, 6])"
      ]
     },
     "execution_count": 56,
     "metadata": {},
     "output_type": "execute_result"
    }
   ],
   "source": [
    "np_rs"
   ]
  },
  {
   "cell_type": "code",
   "execution_count": 57,
   "id": "9800a502",
   "metadata": {},
   "outputs": [
    {
     "data": {
      "text/plain": [
       "array([[1, 2, 3],\n",
       "       [4, 5, 6]])"
      ]
     },
     "execution_count": 57,
     "metadata": {},
     "output_type": "execute_result"
    }
   ],
   "source": [
    "np_rs.reshape(2,3)"
   ]
  },
  {
   "cell_type": "code",
   "execution_count": 58,
   "id": "0dae4fcf",
   "metadata": {},
   "outputs": [
    {
     "data": {
      "text/plain": [
       "array([[1, 2],\n",
       "       [3, 4],\n",
       "       [5, 6]])"
      ]
     },
     "execution_count": 58,
     "metadata": {},
     "output_type": "execute_result"
    }
   ],
   "source": [
    "np_rs.reshape(3,2)"
   ]
  },
  {
   "cell_type": "code",
   "execution_count": 59,
   "id": "d556ffed",
   "metadata": {},
   "outputs": [
    {
     "data": {
      "text/plain": [
       "array([[1, 2],\n",
       "       [3, 4],\n",
       "       [5, 6]])"
      ]
     },
     "execution_count": 59,
     "metadata": {},
     "output_type": "execute_result"
    }
   ],
   "source": [
    "np_rs.reshape(3,-1)"
   ]
  },
  {
   "cell_type": "code",
   "execution_count": 60,
   "id": "db952d1d",
   "metadata": {},
   "outputs": [
    {
     "ename": "ValueError",
     "evalue": "cannot reshape array of size 6 into shape (4,newaxis)",
     "output_type": "error",
     "traceback": [
      "\u001b[1;31m---------------------------------------------------------------------------\u001b[0m",
      "\u001b[1;31mValueError\u001b[0m                                Traceback (most recent call last)",
      "Cell \u001b[1;32mIn[60], line 1\u001b[0m\n\u001b[1;32m----> 1\u001b[0m \u001b[43mnp_rs\u001b[49m\u001b[38;5;241;43m.\u001b[39;49m\u001b[43mreshape\u001b[49m\u001b[43m(\u001b[49m\u001b[38;5;241;43m4\u001b[39;49m\u001b[43m,\u001b[49m\u001b[38;5;241;43m-\u001b[39;49m\u001b[38;5;241;43m1\u001b[39;49m\u001b[43m)\u001b[49m\n",
      "\u001b[1;31mValueError\u001b[0m: cannot reshape array of size 6 into shape (4,newaxis)"
     ]
    }
   ],
   "source": [
    "np_rs.reshape(4,-1)"
   ]
  },
  {
   "cell_type": "code",
   "execution_count": 61,
   "id": "b53c8a9c",
   "metadata": {},
   "outputs": [
    {
     "data": {
      "text/plain": [
       "array([[1, 2, 3],\n",
       "       [4, 5, 6]])"
      ]
     },
     "execution_count": 61,
     "metadata": {},
     "output_type": "execute_result"
    }
   ],
   "source": [
    "np_rs.reshape(2,-1)"
   ]
  },
  {
   "cell_type": "code",
   "execution_count": 62,
   "id": "d1d8816c",
   "metadata": {},
   "outputs": [
    {
     "ename": "ValueError",
     "evalue": "cannot reshape array of size 6 into shape (2,2,newaxis)",
     "output_type": "error",
     "traceback": [
      "\u001b[1;31m---------------------------------------------------------------------------\u001b[0m",
      "\u001b[1;31mValueError\u001b[0m                                Traceback (most recent call last)",
      "Cell \u001b[1;32mIn[62], line 1\u001b[0m\n\u001b[1;32m----> 1\u001b[0m \u001b[43mnp_rs\u001b[49m\u001b[38;5;241;43m.\u001b[39;49m\u001b[43mreshape\u001b[49m\u001b[43m(\u001b[49m\u001b[38;5;241;43m2\u001b[39;49m\u001b[43m,\u001b[49m\u001b[38;5;241;43m2\u001b[39;49m\u001b[43m,\u001b[49m\u001b[38;5;241;43m-\u001b[39;49m\u001b[38;5;241;43m1\u001b[39;49m\u001b[43m)\u001b[49m\n",
      "\u001b[1;31mValueError\u001b[0m: cannot reshape array of size 6 into shape (2,2,newaxis)"
     ]
    }
   ],
   "source": [
    "np_rs.reshape(2,2,-1)"
   ]
  },
  {
   "cell_type": "code",
   "execution_count": 63,
   "id": "47ded2fd",
   "metadata": {},
   "outputs": [
    {
     "data": {
      "text/plain": [
       "array([[1, 2, 3],\n",
       "       [4, 5, 6]])"
      ]
     },
     "execution_count": 63,
     "metadata": {},
     "output_type": "execute_result"
    }
   ],
   "source": [
    "np_rs.reshape(-1,3)"
   ]
  },
  {
   "cell_type": "code",
   "execution_count": 64,
   "id": "f552302c",
   "metadata": {},
   "outputs": [
    {
     "ename": "TypeError",
     "evalue": "'module' object is not callable",
     "output_type": "error",
     "traceback": [
      "\u001b[1;31m---------------------------------------------------------------------------\u001b[0m",
      "\u001b[1;31mTypeError\u001b[0m                                 Traceback (most recent call last)",
      "Cell \u001b[1;32mIn[64], line 1\u001b[0m\n\u001b[1;32m----> 1\u001b[0m \u001b[43mnp\u001b[49m\u001b[38;5;241;43m.\u001b[39;49m\u001b[43mrandom\u001b[49m\u001b[43m(\u001b[49m\u001b[38;5;241;43m2\u001b[39;49m\u001b[43m)\u001b[49m\n",
      "\u001b[1;31mTypeError\u001b[0m: 'module' object is not callable"
     ]
    }
   ],
   "source": [
    "np.random(2)"
   ]
  },
  {
   "cell_type": "code",
   "execution_count": 65,
   "id": "41fb9382",
   "metadata": {},
   "outputs": [
    {
     "data": {
      "text/plain": [
       "array([0.70693952, 0.73985788])"
      ]
     },
     "execution_count": 65,
     "metadata": {},
     "output_type": "execute_result"
    }
   ],
   "source": [
    "np.random.random(2)"
   ]
  },
  {
   "cell_type": "code",
   "execution_count": 66,
   "id": "153b11b5",
   "metadata": {},
   "outputs": [
    {
     "ename": "ModuleNotFoundError",
     "evalue": "No module named 'np'",
     "output_type": "error",
     "traceback": [
      "\u001b[1;31m---------------------------------------------------------------------------\u001b[0m",
      "\u001b[1;31mModuleNotFoundError\u001b[0m                       Traceback (most recent call last)",
      "Cell \u001b[1;32mIn[66], line 1\u001b[0m\n\u001b[1;32m----> 1\u001b[0m \u001b[38;5;28;01mimport\u001b[39;00m \u001b[38;5;21;01mnp\u001b[39;00m\u001b[38;5;21;01m.\u001b[39;00m\u001b[38;5;21;01mrandom\u001b[39;00m \u001b[38;5;28;01mas\u001b[39;00m \u001b[38;5;21;01mrandom\u001b[39;00m\n",
      "\u001b[1;31mModuleNotFoundError\u001b[0m: No module named 'np'"
     ]
    }
   ],
   "source": [
    "import np.random as random"
   ]
  },
  {
   "cell_type": "code",
   "execution_count": 67,
   "id": "f14c1645",
   "metadata": {},
   "outputs": [],
   "source": [
    "import numpy.random as random"
   ]
  },
  {
   "cell_type": "code",
   "execution_count": 68,
   "id": "12b02be0",
   "metadata": {},
   "outputs": [
    {
     "ename": "TypeError",
     "evalue": "'module' object is not callable",
     "output_type": "error",
     "traceback": [
      "\u001b[1;31m---------------------------------------------------------------------------\u001b[0m",
      "\u001b[1;31mTypeError\u001b[0m                                 Traceback (most recent call last)",
      "Cell \u001b[1;32mIn[68], line 1\u001b[0m\n\u001b[1;32m----> 1\u001b[0m \u001b[43mrandom\u001b[49m\u001b[43m(\u001b[49m\u001b[38;5;241;43m2\u001b[39;49m\u001b[43m)\u001b[49m\n",
      "\u001b[1;31mTypeError\u001b[0m: 'module' object is not callable"
     ]
    }
   ],
   "source": [
    "random(2)"
   ]
  },
  {
   "cell_type": "code",
   "execution_count": 69,
   "id": "29fd7c12",
   "metadata": {},
   "outputs": [
    {
     "data": {
      "text/plain": [
       "array([0.92865078, 0.94033944])"
      ]
     },
     "execution_count": 69,
     "metadata": {},
     "output_type": "execute_result"
    }
   ],
   "source": [
    "random.random(2)"
   ]
  },
  {
   "cell_type": "code",
   "execution_count": 70,
   "id": "50e77f01",
   "metadata": {},
   "outputs": [
    {
     "data": {
      "text/plain": [
       "array([[0.944174  , 0.79019816],\n",
       "       [0.52048267, 0.44167043],\n",
       "       [0.522961  , 0.55982451]])"
      ]
     },
     "execution_count": 70,
     "metadata": {},
     "output_type": "execute_result"
    }
   ],
   "source": [
    "random.random([3,2])"
   ]
  },
  {
   "cell_type": "code",
   "execution_count": 73,
   "id": "5be6ad52",
   "metadata": {},
   "outputs": [],
   "source": [
    "import numpy.linalg as la"
   ]
  },
  {
   "cell_type": "code",
   "execution_count": 74,
   "id": "c91badea",
   "metadata": {},
   "outputs": [
    {
     "data": {
      "text/plain": [
       "array([[-2. ,  1. ],\n",
       "       [ 1.5, -0.5]])"
      ]
     },
     "execution_count": 74,
     "metadata": {},
     "output_type": "execute_result"
    }
   ],
   "source": [
    "la.inv(np_2d)"
   ]
  },
  {
   "cell_type": "code",
   "execution_count": 75,
   "id": "190d9150",
   "metadata": {},
   "outputs": [
    {
     "data": {
      "text/plain": [
       "EigResult(eigenvalues=array([-0.37228132,  5.37228132]), eigenvectors=array([[-0.82456484, -0.41597356],\n",
       "       [ 0.56576746, -0.90937671]]))"
      ]
     },
     "execution_count": 75,
     "metadata": {},
     "output_type": "execute_result"
    }
   ],
   "source": [
    "la.eig(np_2d)"
   ]
  },
  {
   "cell_type": "code",
   "execution_count": 76,
   "id": "2e922a01",
   "metadata": {},
   "outputs": [
    {
     "data": {
      "text/plain": [
       "SVDResult(U=array([[-0.40455358, -0.9145143 ],\n",
       "       [-0.9145143 ,  0.40455358]]), S=array([5.4649857 , 0.36596619]), Vh=array([[-0.57604844, -0.81741556],\n",
       "       [ 0.81741556, -0.57604844]]))"
      ]
     },
     "execution_count": 76,
     "metadata": {},
     "output_type": "execute_result"
    }
   ],
   "source": [
    "la.svd(np_2d)"
   ]
  },
  {
   "cell_type": "code",
   "execution_count": 77,
   "id": "a441edcb",
   "metadata": {},
   "outputs": [
    {
     "data": {
      "text/plain": [
       "array([[-2. ,  1. ],\n",
       "       [ 1.5, -0.5]])"
      ]
     },
     "execution_count": 77,
     "metadata": {},
     "output_type": "execute_result"
    }
   ],
   "source": [
    "la.pinv(np_2d)"
   ]
  },
  {
   "cell_type": "code",
   "execution_count": 78,
   "id": "0b049bfc",
   "metadata": {},
   "outputs": [
    {
     "data": {
      "text/plain": [
       "array([[1.30443832, 1.16924114, 4.04049107],\n",
       "       [3.10674531, 2.10202413, 1.52159786]])"
      ]
     },
     "execution_count": 78,
     "metadata": {},
     "output_type": "execute_result"
    }
   ],
   "source": [
    "random.rand(2,3)*5"
   ]
  },
  {
   "cell_type": "code",
   "execution_count": 79,
   "id": "6c0ec0e3",
   "metadata": {},
   "outputs": [
    {
     "data": {
      "text/plain": [
       "array([[-0.59574839, -1.79020285, -0.02207161],\n",
       "       [-1.32137769, -0.66151701,  1.07596351]])"
      ]
     },
     "execution_count": 79,
     "metadata": {},
     "output_type": "execute_result"
    }
   ],
   "source": [
    "random.randn(2,3)"
   ]
  },
  {
   "cell_type": "raw",
   "id": "9a427a24",
   "metadata": {},
   "source": [
    "random.randint(-2,5,3)"
   ]
  },
  {
   "cell_type": "code",
   "execution_count": 80,
   "id": "2a7e897a",
   "metadata": {},
   "outputs": [
    {
     "data": {
      "text/plain": [
       "array([-1,  1, -2,  0, -2])"
      ]
     },
     "execution_count": 80,
     "metadata": {},
     "output_type": "execute_result"
    }
   ],
   "source": [
    "random.randint(-2,3,5)"
   ]
  },
  {
   "cell_type": "code",
   "execution_count": 81,
   "id": "52b331b2",
   "metadata": {},
   "outputs": [],
   "source": [
    "random.shuffle(np_rs)"
   ]
  },
  {
   "cell_type": "code",
   "execution_count": 82,
   "id": "cee749c4",
   "metadata": {},
   "outputs": [
    {
     "data": {
      "text/plain": [
       "array([4, 5, 2, 6, 3, 1])"
      ]
     },
     "execution_count": 82,
     "metadata": {},
     "output_type": "execute_result"
    }
   ],
   "source": [
    "np_rs"
   ]
  },
  {
   "cell_type": "code",
   "execution_count": 83,
   "id": "53d0e965",
   "metadata": {},
   "outputs": [
    {
     "data": {
      "text/plain": [
       "array([1, 1])"
      ]
     },
     "execution_count": 83,
     "metadata": {},
     "output_type": "execute_result"
    }
   ],
   "source": [
    "random.choice(np_rs, 2)"
   ]
  },
  {
   "cell_type": "code",
   "execution_count": 84,
   "id": "60f3d510",
   "metadata": {},
   "outputs": [
    {
     "data": {
      "text/plain": [
       "3"
      ]
     },
     "execution_count": 84,
     "metadata": {},
     "output_type": "execute_result"
    }
   ],
   "source": [
    "random.binomial(20,0.3)"
   ]
  },
  {
   "cell_type": "code",
   "execution_count": 85,
   "id": "f581cef6",
   "metadata": {},
   "outputs": [
    {
     "data": {
      "text/plain": [
       "array([6, 4, 9, 8, 8, 6, 7])"
      ]
     },
     "execution_count": 85,
     "metadata": {},
     "output_type": "execute_result"
    }
   ],
   "source": [
    "random.binomial(20, 0.3, 7)"
   ]
  },
  {
   "cell_type": "code",
   "execution_count": 86,
   "id": "316e609a",
   "metadata": {},
   "outputs": [
    {
     "data": {
      "text/plain": [
       "array([1.67504933, 0.09109557, 0.02890336, 0.5867762 ])"
      ]
     },
     "execution_count": 86,
     "metadata": {},
     "output_type": "execute_result"
    }
   ],
   "source": [
    "random.exponential(0.7,4)"
   ]
  },
  {
   "cell_type": "code",
   "execution_count": 87,
   "id": "c3c3da6e",
   "metadata": {},
   "outputs": [
    {
     "name": "stderr",
     "output_type": "stream",
     "text": [
      "UsageError: %%time is a cell magic, but the cell body is empty. Did you mean the line magic %time (single %)?\n"
     ]
    }
   ],
   "source": [
    "%%time\n"
   ]
  },
  {
   "cell_type": "code",
   "execution_count": 88,
   "id": "0df740eb",
   "metadata": {},
   "outputs": [
    {
     "data": {
      "text/plain": [
       "array([ 4.91051465, 18.25118017,  6.4732861 ])"
      ]
     },
     "execution_count": 88,
     "metadata": {},
     "output_type": "execute_result"
    }
   ],
   "source": [
    "random.normal(-5,12,3)"
   ]
  },
  {
   "cell_type": "code",
   "execution_count": 89,
   "id": "ae4df0fe",
   "metadata": {},
   "outputs": [
    {
     "data": {
      "text/plain": [
       "array([-9.07094108, -4.36744232,  4.29327979, -8.98657277, -0.0483736 ,\n",
       "       11.60001504, -1.84421407])"
      ]
     },
     "execution_count": 89,
     "metadata": {},
     "output_type": "execute_result"
    }
   ],
   "source": [
    "random.logistic(-2,4,7)"
   ]
  },
  {
   "cell_type": "code",
   "execution_count": 90,
   "id": "197bd554",
   "metadata": {},
   "outputs": [
    {
     "data": {
      "text/plain": [
       "(2, 2)"
      ]
     },
     "execution_count": 90,
     "metadata": {},
     "output_type": "execute_result"
    }
   ],
   "source": [
    "np_2d.shape"
   ]
  },
  {
   "cell_type": "code",
   "execution_count": 91,
   "id": "2f09cee7",
   "metadata": {},
   "outputs": [
    {
     "data": {
      "text/plain": [
       "dtype('int32')"
      ]
     },
     "execution_count": 91,
     "metadata": {},
     "output_type": "execute_result"
    }
   ],
   "source": [
    "np_2d.dtype"
   ]
  },
  {
   "cell_type": "code",
   "execution_count": 92,
   "id": "68058276",
   "metadata": {},
   "outputs": [
    {
     "data": {
      "text/plain": [
       "numpy.ndarray"
      ]
     },
     "execution_count": 92,
     "metadata": {},
     "output_type": "execute_result"
    }
   ],
   "source": [
    "type(np_2d)"
   ]
  },
  {
   "cell_type": "code",
   "execution_count": 93,
   "id": "188f8626",
   "metadata": {},
   "outputs": [
    {
     "data": {
      "text/plain": [
       "array([[1., 1.],\n",
       "       [1., 1.]])"
      ]
     },
     "execution_count": 93,
     "metadata": {},
     "output_type": "execute_result"
    }
   ],
   "source": [
    "np.vstack(np.ones([2,2]))"
   ]
  },
  {
   "cell_type": "code",
   "execution_count": 94,
   "id": "1c81dfac",
   "metadata": {},
   "outputs": [
    {
     "data": {
      "text/plain": [
       "array([[1., 2.],\n",
       "       [3., 4.],\n",
       "       [1., 1.],\n",
       "       [1., 1.]])"
      ]
     },
     "execution_count": 94,
     "metadata": {},
     "output_type": "execute_result"
    }
   ],
   "source": [
    "np.vstack((np_2d,np.ones([2,2])))"
   ]
  },
  {
   "cell_type": "code",
   "execution_count": 95,
   "id": "190dfbcf",
   "metadata": {},
   "outputs": [
    {
     "data": {
      "text/plain": [
       "array([[1., 2., 1., 1.],\n",
       "       [3., 4., 1., 1.]])"
      ]
     },
     "execution_count": 95,
     "metadata": {},
     "output_type": "execute_result"
    }
   ],
   "source": [
    "np.hstack((np_2d,np.ones([2,2])))"
   ]
  },
  {
   "cell_type": "code",
   "execution_count": 96,
   "id": "8cac5e59",
   "metadata": {},
   "outputs": [],
   "source": [
    "N=10000000\n",
    "x=list(range(N))\n",
    "y=list(range(N)) \n",
    "z=[]"
   ]
  },
  {
   "cell_type": "code",
   "execution_count": 97,
   "id": "eaf5a569",
   "metadata": {},
   "outputs": [],
   "source": [
    "np_x = np.array(x)\n",
    "np_y = np.array(y)"
   ]
  },
  {
   "cell_type": "code",
   "execution_count": 98,
   "id": "815dcb98",
   "metadata": {},
   "outputs": [
    {
     "name": "stdout",
     "output_type": "stream",
     "text": [
      "CPU times: total: 1.11 s\n",
      "Wall time: 1.2 s\n"
     ]
    }
   ],
   "source": [
    "%%time\n",
    "for i in range(len(x)):\n",
    "    z.append(x[i]+y[i])\n"
   ]
  },
  {
   "cell_type": "code",
   "execution_count": 99,
   "id": "42adb9fa",
   "metadata": {},
   "outputs": [
    {
     "name": "stdout",
     "output_type": "stream",
     "text": [
      "CPU times: total: 15.6 ms\n",
      "Wall time: 13.9 ms\n"
     ]
    }
   ],
   "source": [
    "%%time\n",
    "np_z = np_x+np_y"
   ]
  },
  {
   "cell_type": "code",
   "execution_count": 101,
   "id": "b9396fa1",
   "metadata": {},
   "outputs": [
    {
     "data": {
      "text/html": [
       "<div>\n",
       "<style scoped>\n",
       "    .dataframe tbody tr th:only-of-type {\n",
       "        vertical-align: middle;\n",
       "    }\n",
       "\n",
       "    .dataframe tbody tr th {\n",
       "        vertical-align: top;\n",
       "    }\n",
       "\n",
       "    .dataframe thead th {\n",
       "        text-align: right;\n",
       "    }\n",
       "</style>\n",
       "<table border=\"1\" class=\"dataframe\">\n",
       "  <thead>\n",
       "    <tr style=\"text-align: right;\">\n",
       "      <th></th>\n",
       "      <th>X0</th>\n",
       "      <th>X1</th>\n",
       "      <th>X2</th>\n",
       "      <th>X3</th>\n",
       "      <th>X4</th>\n",
       "      <th>X5</th>\n",
       "      <th>y</th>\n",
       "      <th>Unnamed: 7</th>\n",
       "      <th>Unnamed: 8</th>\n",
       "      <th>Unnamed: 9</th>\n",
       "      <th>Unnamed: 10</th>\n",
       "    </tr>\n",
       "  </thead>\n",
       "  <tbody>\n",
       "    <tr>\n",
       "      <th>0</th>\n",
       "      <td>1</td>\n",
       "      <td>5.768</td>\n",
       "      <td>62.55</td>\n",
       "      <td>0</td>\n",
       "      <td>28</td>\n",
       "      <td>2.6</td>\n",
       "      <td>28</td>\n",
       "      <td>NaN</td>\n",
       "      <td>NaN</td>\n",
       "      <td>NaN</td>\n",
       "      <td>NaN</td>\n",
       "    </tr>\n",
       "    <tr>\n",
       "      <th>1</th>\n",
       "      <td>1</td>\n",
       "      <td>8.949</td>\n",
       "      <td>66.91</td>\n",
       "      <td>0</td>\n",
       "      <td>27</td>\n",
       "      <td>-2.0</td>\n",
       "      <td>46</td>\n",
       "      <td>NaN</td>\n",
       "      <td>NaN</td>\n",
       "      <td>NaN</td>\n",
       "      <td>NaN</td>\n",
       "    </tr>\n",
       "    <tr>\n",
       "      <th>2</th>\n",
       "      <td>1</td>\n",
       "      <td>1.024</td>\n",
       "      <td>34.42</td>\n",
       "      <td>0</td>\n",
       "      <td>20</td>\n",
       "      <td>-3.4</td>\n",
       "      <td>14</td>\n",
       "      <td>NaN</td>\n",
       "      <td>NaN</td>\n",
       "      <td>NaN</td>\n",
       "      <td>NaN</td>\n",
       "    </tr>\n",
       "    <tr>\n",
       "      <th>3</th>\n",
       "      <td>1</td>\n",
       "      <td>4.534</td>\n",
       "      <td>47.93</td>\n",
       "      <td>0</td>\n",
       "      <td>10</td>\n",
       "      <td>1.1</td>\n",
       "      <td>17</td>\n",
       "      <td>NaN</td>\n",
       "      <td>NaN</td>\n",
       "      <td>NaN</td>\n",
       "      <td>NaN</td>\n",
       "    </tr>\n",
       "    <tr>\n",
       "      <th>4</th>\n",
       "      <td>1</td>\n",
       "      <td>8.641</td>\n",
       "      <td>35.26</td>\n",
       "      <td>0</td>\n",
       "      <td>30</td>\n",
       "      <td>3.8</td>\n",
       "      <td>32</td>\n",
       "      <td>NaN</td>\n",
       "      <td>NaN</td>\n",
       "      <td>NaN</td>\n",
       "      <td>NaN</td>\n",
       "    </tr>\n",
       "    <tr>\n",
       "      <th>5</th>\n",
       "      <td>1</td>\n",
       "      <td>1.063</td>\n",
       "      <td>42.14</td>\n",
       "      <td>0</td>\n",
       "      <td>6</td>\n",
       "      <td>-2.1</td>\n",
       "      <td>8</td>\n",
       "      <td>NaN</td>\n",
       "      <td>NaN</td>\n",
       "      <td>NaN</td>\n",
       "      <td>NaN</td>\n",
       "    </tr>\n",
       "    <tr>\n",
       "      <th>6</th>\n",
       "      <td>1</td>\n",
       "      <td>5.306</td>\n",
       "      <td>39.80</td>\n",
       "      <td>0</td>\n",
       "      <td>29</td>\n",
       "      <td>-1.8</td>\n",
       "      <td>30</td>\n",
       "      <td>NaN</td>\n",
       "      <td>NaN</td>\n",
       "      <td>NaN</td>\n",
       "      <td>NaN</td>\n",
       "    </tr>\n",
       "    <tr>\n",
       "      <th>7</th>\n",
       "      <td>1</td>\n",
       "      <td>4.309</td>\n",
       "      <td>36.14</td>\n",
       "      <td>0</td>\n",
       "      <td>12</td>\n",
       "      <td>-3.4</td>\n",
       "      <td>22</td>\n",
       "      <td>NaN</td>\n",
       "      <td>NaN</td>\n",
       "      <td>NaN</td>\n",
       "      <td>NaN</td>\n",
       "    </tr>\n",
       "    <tr>\n",
       "      <th>8</th>\n",
       "      <td>1</td>\n",
       "      <td>3.739</td>\n",
       "      <td>44.53</td>\n",
       "      <td>0</td>\n",
       "      <td>39</td>\n",
       "      <td>1.9</td>\n",
       "      <td>24</td>\n",
       "      <td>NaN</td>\n",
       "      <td>NaN</td>\n",
       "      <td>NaN</td>\n",
       "      <td>NaN</td>\n",
       "    </tr>\n",
       "    <tr>\n",
       "      <th>9</th>\n",
       "      <td>1</td>\n",
       "      <td>3.816</td>\n",
       "      <td>60.01</td>\n",
       "      <td>0</td>\n",
       "      <td>10</td>\n",
       "      <td>-3.4</td>\n",
       "      <td>24</td>\n",
       "      <td>NaN</td>\n",
       "      <td>NaN</td>\n",
       "      <td>NaN</td>\n",
       "      <td>NaN</td>\n",
       "    </tr>\n",
       "    <tr>\n",
       "      <th>10</th>\n",
       "      <td>1</td>\n",
       "      <td>8.539</td>\n",
       "      <td>36.90</td>\n",
       "      <td>0</td>\n",
       "      <td>31</td>\n",
       "      <td>-3.0</td>\n",
       "      <td>43</td>\n",
       "      <td>NaN</td>\n",
       "      <td>NaN</td>\n",
       "      <td>NaN</td>\n",
       "      <td>NaN</td>\n",
       "    </tr>\n",
       "    <tr>\n",
       "      <th>11</th>\n",
       "      <td>1</td>\n",
       "      <td>7.129</td>\n",
       "      <td>35.77</td>\n",
       "      <td>0</td>\n",
       "      <td>38</td>\n",
       "      <td>3.5</td>\n",
       "      <td>30</td>\n",
       "      <td>NaN</td>\n",
       "      <td>NaN</td>\n",
       "      <td>NaN</td>\n",
       "      <td>NaN</td>\n",
       "    </tr>\n",
       "    <tr>\n",
       "      <th>12</th>\n",
       "      <td>1</td>\n",
       "      <td>4.249</td>\n",
       "      <td>37.17</td>\n",
       "      <td>0</td>\n",
       "      <td>23</td>\n",
       "      <td>0.8</td>\n",
       "      <td>20</td>\n",
       "      <td>NaN</td>\n",
       "      <td>NaN</td>\n",
       "      <td>NaN</td>\n",
       "      <td>NaN</td>\n",
       "    </tr>\n",
       "    <tr>\n",
       "      <th>13</th>\n",
       "      <td>1</td>\n",
       "      <td>-2.990</td>\n",
       "      <td>42.41</td>\n",
       "      <td>0</td>\n",
       "      <td>20</td>\n",
       "      <td>-3.1</td>\n",
       "      <td>2</td>\n",
       "      <td>NaN</td>\n",
       "      <td>NaN</td>\n",
       "      <td>NaN</td>\n",
       "      <td>NaN</td>\n",
       "    </tr>\n",
       "    <tr>\n",
       "      <th>14</th>\n",
       "      <td>1</td>\n",
       "      <td>0.356</td>\n",
       "      <td>57.67</td>\n",
       "      <td>0</td>\n",
       "      <td>26</td>\n",
       "      <td>-3.8</td>\n",
       "      <td>19</td>\n",
       "      <td>NaN</td>\n",
       "      <td>NaN</td>\n",
       "      <td>NaN</td>\n",
       "      <td>NaN</td>\n",
       "    </tr>\n",
       "    <tr>\n",
       "      <th>15</th>\n",
       "      <td>1</td>\n",
       "      <td>5.487</td>\n",
       "      <td>35.25</td>\n",
       "      <td>0</td>\n",
       "      <td>10</td>\n",
       "      <td>-2.8</td>\n",
       "      <td>24</td>\n",
       "      <td>NaN</td>\n",
       "      <td>NaN</td>\n",
       "      <td>NaN</td>\n",
       "      <td>NaN</td>\n",
       "    </tr>\n",
       "    <tr>\n",
       "      <th>16</th>\n",
       "      <td>1</td>\n",
       "      <td>5.699</td>\n",
       "      <td>62.15</td>\n",
       "      <td>0</td>\n",
       "      <td>13</td>\n",
       "      <td>2.4</td>\n",
       "      <td>22</td>\n",
       "      <td>NaN</td>\n",
       "      <td>NaN</td>\n",
       "      <td>NaN</td>\n",
       "      <td>NaN</td>\n",
       "    </tr>\n",
       "    <tr>\n",
       "      <th>17</th>\n",
       "      <td>1</td>\n",
       "      <td>-0.373</td>\n",
       "      <td>38.38</td>\n",
       "      <td>1</td>\n",
       "      <td>42</td>\n",
       "      <td>2.0</td>\n",
       "      <td>23</td>\n",
       "      <td>NaN</td>\n",
       "      <td>NaN</td>\n",
       "      <td>NaN</td>\n",
       "      <td>NaN</td>\n",
       "    </tr>\n",
       "    <tr>\n",
       "      <th>18</th>\n",
       "      <td>1</td>\n",
       "      <td>3.900</td>\n",
       "      <td>40.53</td>\n",
       "      <td>0</td>\n",
       "      <td>23</td>\n",
       "      <td>-2.5</td>\n",
       "      <td>25</td>\n",
       "      <td>NaN</td>\n",
       "      <td>NaN</td>\n",
       "      <td>NaN</td>\n",
       "      <td>NaN</td>\n",
       "    </tr>\n",
       "    <tr>\n",
       "      <th>19</th>\n",
       "      <td>1</td>\n",
       "      <td>3.616</td>\n",
       "      <td>35.91</td>\n",
       "      <td>1</td>\n",
       "      <td>16</td>\n",
       "      <td>3.1</td>\n",
       "      <td>23</td>\n",
       "      <td>NaN</td>\n",
       "      <td>NaN</td>\n",
       "      <td>NaN</td>\n",
       "      <td>NaN</td>\n",
       "    </tr>\n",
       "    <tr>\n",
       "      <th>20</th>\n",
       "      <td>1</td>\n",
       "      <td>9.103</td>\n",
       "      <td>59.60</td>\n",
       "      <td>0</td>\n",
       "      <td>14</td>\n",
       "      <td>2.2</td>\n",
       "      <td>34</td>\n",
       "      <td>NaN</td>\n",
       "      <td>NaN</td>\n",
       "      <td>NaN</td>\n",
       "      <td>NaN</td>\n",
       "    </tr>\n",
       "    <tr>\n",
       "      <th>21</th>\n",
       "      <td>1</td>\n",
       "      <td>2.714</td>\n",
       "      <td>43.54</td>\n",
       "      <td>0</td>\n",
       "      <td>37</td>\n",
       "      <td>2.1</td>\n",
       "      <td>19</td>\n",
       "      <td>NaN</td>\n",
       "      <td>NaN</td>\n",
       "      <td>NaN</td>\n",
       "      <td>NaN</td>\n",
       "    </tr>\n",
       "    <tr>\n",
       "      <th>22</th>\n",
       "      <td>1</td>\n",
       "      <td>6.885</td>\n",
       "      <td>35.66</td>\n",
       "      <td>1</td>\n",
       "      <td>20</td>\n",
       "      <td>-3.7</td>\n",
       "      <td>46</td>\n",
       "      <td>NaN</td>\n",
       "      <td>NaN</td>\n",
       "      <td>NaN</td>\n",
       "      <td>NaN</td>\n",
       "    </tr>\n",
       "    <tr>\n",
       "      <th>23</th>\n",
       "      <td>1</td>\n",
       "      <td>-0.850</td>\n",
       "      <td>43.94</td>\n",
       "      <td>1</td>\n",
       "      <td>31</td>\n",
       "      <td>-3.2</td>\n",
       "      <td>26</td>\n",
       "      <td>NaN</td>\n",
       "      <td>NaN</td>\n",
       "      <td>NaN</td>\n",
       "      <td>NaN</td>\n",
       "    </tr>\n",
       "    <tr>\n",
       "      <th>24</th>\n",
       "      <td>1</td>\n",
       "      <td>5.511</td>\n",
       "      <td>58.96</td>\n",
       "      <td>0</td>\n",
       "      <td>6</td>\n",
       "      <td>-3.8</td>\n",
       "      <td>28</td>\n",
       "      <td>NaN</td>\n",
       "      <td>NaN</td>\n",
       "      <td>NaN</td>\n",
       "      <td>NaN</td>\n",
       "    </tr>\n",
       "    <tr>\n",
       "      <th>25</th>\n",
       "      <td>1</td>\n",
       "      <td>5.225</td>\n",
       "      <td>45.25</td>\n",
       "      <td>0</td>\n",
       "      <td>24</td>\n",
       "      <td>-1.3</td>\n",
       "      <td>28</td>\n",
       "      <td>NaN</td>\n",
       "      <td>NaN</td>\n",
       "      <td>NaN</td>\n",
       "      <td>NaN</td>\n",
       "    </tr>\n",
       "    <tr>\n",
       "      <th>26</th>\n",
       "      <td>1</td>\n",
       "      <td>7.982</td>\n",
       "      <td>43.71</td>\n",
       "      <td>0</td>\n",
       "      <td>27</td>\n",
       "      <td>2.0</td>\n",
       "      <td>33</td>\n",
       "      <td>NaN</td>\n",
       "      <td>NaN</td>\n",
       "      <td>NaN</td>\n",
       "      <td>NaN</td>\n",
       "    </tr>\n",
       "    <tr>\n",
       "      <th>27</th>\n",
       "      <td>1</td>\n",
       "      <td>4.361</td>\n",
       "      <td>52.71</td>\n",
       "      <td>0</td>\n",
       "      <td>22</td>\n",
       "      <td>-2.5</td>\n",
       "      <td>28</td>\n",
       "      <td>NaN</td>\n",
       "      <td>NaN</td>\n",
       "      <td>NaN</td>\n",
       "      <td>NaN</td>\n",
       "    </tr>\n",
       "    <tr>\n",
       "      <th>28</th>\n",
       "      <td>1</td>\n",
       "      <td>2.853</td>\n",
       "      <td>51.12</td>\n",
       "      <td>0</td>\n",
       "      <td>42</td>\n",
       "      <td>2.3</td>\n",
       "      <td>22</td>\n",
       "      <td>NaN</td>\n",
       "      <td>NaN</td>\n",
       "      <td>NaN</td>\n",
       "      <td>NaN</td>\n",
       "    </tr>\n",
       "    <tr>\n",
       "      <th>29</th>\n",
       "      <td>1</td>\n",
       "      <td>2.777</td>\n",
       "      <td>38.60</td>\n",
       "      <td>1</td>\n",
       "      <td>24</td>\n",
       "      <td>-2.5</td>\n",
       "      <td>33</td>\n",
       "      <td>NaN</td>\n",
       "      <td>NaN</td>\n",
       "      <td>NaN</td>\n",
       "      <td>NaN</td>\n",
       "    </tr>\n",
       "    <tr>\n",
       "      <th>30</th>\n",
       "      <td>1</td>\n",
       "      <td>1.977</td>\n",
       "      <td>49.07</td>\n",
       "      <td>0</td>\n",
       "      <td>41</td>\n",
       "      <td>-3.6</td>\n",
       "      <td>28</td>\n",
       "      <td>NaN</td>\n",
       "      <td>NaN</td>\n",
       "      <td>NaN</td>\n",
       "      <td>NaN</td>\n",
       "    </tr>\n",
       "    <tr>\n",
       "      <th>31</th>\n",
       "      <td>1</td>\n",
       "      <td>3.784</td>\n",
       "      <td>45.44</td>\n",
       "      <td>0</td>\n",
       "      <td>12</td>\n",
       "      <td>-1.9</td>\n",
       "      <td>20</td>\n",
       "      <td>NaN</td>\n",
       "      <td>NaN</td>\n",
       "      <td>NaN</td>\n",
       "      <td>NaN</td>\n",
       "    </tr>\n",
       "    <tr>\n",
       "      <th>32</th>\n",
       "      <td>1</td>\n",
       "      <td>3.043</td>\n",
       "      <td>62.50</td>\n",
       "      <td>0</td>\n",
       "      <td>25</td>\n",
       "      <td>-1.9</td>\n",
       "      <td>25</td>\n",
       "      <td>NaN</td>\n",
       "      <td>NaN</td>\n",
       "      <td>NaN</td>\n",
       "      <td>NaN</td>\n",
       "    </tr>\n",
       "    <tr>\n",
       "      <th>33</th>\n",
       "      <td>1</td>\n",
       "      <td>5.618</td>\n",
       "      <td>52.44</td>\n",
       "      <td>0</td>\n",
       "      <td>27</td>\n",
       "      <td>1.1</td>\n",
       "      <td>28</td>\n",
       "      <td>NaN</td>\n",
       "      <td>NaN</td>\n",
       "      <td>NaN</td>\n",
       "      <td>NaN</td>\n",
       "    </tr>\n",
       "    <tr>\n",
       "      <th>34</th>\n",
       "      <td>1</td>\n",
       "      <td>7.374</td>\n",
       "      <td>38.25</td>\n",
       "      <td>0</td>\n",
       "      <td>36</td>\n",
       "      <td>3.1</td>\n",
       "      <td>31</td>\n",
       "      <td>NaN</td>\n",
       "      <td>NaN</td>\n",
       "      <td>NaN</td>\n",
       "      <td>NaN</td>\n",
       "    </tr>\n",
       "    <tr>\n",
       "      <th>35</th>\n",
       "      <td>1</td>\n",
       "      <td>3.090</td>\n",
       "      <td>56.77</td>\n",
       "      <td>0</td>\n",
       "      <td>49</td>\n",
       "      <td>-1.7</td>\n",
       "      <td>33</td>\n",
       "      <td>NaN</td>\n",
       "      <td>NaN</td>\n",
       "      <td>NaN</td>\n",
       "      <td>NaN</td>\n",
       "    </tr>\n",
       "    <tr>\n",
       "      <th>36</th>\n",
       "      <td>1</td>\n",
       "      <td>6.178</td>\n",
       "      <td>61.51</td>\n",
       "      <td>1</td>\n",
       "      <td>6</td>\n",
       "      <td>-2.5</td>\n",
       "      <td>41</td>\n",
       "      <td>NaN</td>\n",
       "      <td>NaN</td>\n",
       "      <td>NaN</td>\n",
       "      <td>NaN</td>\n",
       "    </tr>\n",
       "    <tr>\n",
       "      <th>37</th>\n",
       "      <td>1</td>\n",
       "      <td>4.605</td>\n",
       "      <td>58.22</td>\n",
       "      <td>0</td>\n",
       "      <td>41</td>\n",
       "      <td>0.2</td>\n",
       "      <td>32</td>\n",
       "      <td>NaN</td>\n",
       "      <td>NaN</td>\n",
       "      <td>NaN</td>\n",
       "      <td>NaN</td>\n",
       "    </tr>\n",
       "    <tr>\n",
       "      <th>38</th>\n",
       "      <td>1</td>\n",
       "      <td>1.968</td>\n",
       "      <td>65.84</td>\n",
       "      <td>0</td>\n",
       "      <td>76</td>\n",
       "      <td>3.5</td>\n",
       "      <td>33</td>\n",
       "      <td>NaN</td>\n",
       "      <td>NaN</td>\n",
       "      <td>NaN</td>\n",
       "      <td>NaN</td>\n",
       "    </tr>\n",
       "    <tr>\n",
       "      <th>39</th>\n",
       "      <td>1</td>\n",
       "      <td>3.610</td>\n",
       "      <td>45.18</td>\n",
       "      <td>1</td>\n",
       "      <td>43</td>\n",
       "      <td>2.5</td>\n",
       "      <td>36</td>\n",
       "      <td>NaN</td>\n",
       "      <td>NaN</td>\n",
       "      <td>NaN</td>\n",
       "      <td>NaN</td>\n",
       "    </tr>\n",
       "    <tr>\n",
       "      <th>40</th>\n",
       "      <td>1</td>\n",
       "      <td>9.896</td>\n",
       "      <td>65.18</td>\n",
       "      <td>0</td>\n",
       "      <td>69</td>\n",
       "      <td>2.3</td>\n",
       "      <td>58</td>\n",
       "      <td>NaN</td>\n",
       "      <td>NaN</td>\n",
       "      <td>NaN</td>\n",
       "      <td>NaN</td>\n",
       "    </tr>\n",
       "    <tr>\n",
       "      <th>41</th>\n",
       "      <td>1</td>\n",
       "      <td>-0.256</td>\n",
       "      <td>53.70</td>\n",
       "      <td>0</td>\n",
       "      <td>13</td>\n",
       "      <td>0.3</td>\n",
       "      <td>5</td>\n",
       "      <td>NaN</td>\n",
       "      <td>NaN</td>\n",
       "      <td>NaN</td>\n",
       "      <td>NaN</td>\n",
       "    </tr>\n",
       "    <tr>\n",
       "      <th>42</th>\n",
       "      <td>1</td>\n",
       "      <td>4.545</td>\n",
       "      <td>39.25</td>\n",
       "      <td>1</td>\n",
       "      <td>18</td>\n",
       "      <td>2.2</td>\n",
       "      <td>29</td>\n",
       "      <td>NaN</td>\n",
       "      <td>NaN</td>\n",
       "      <td>NaN</td>\n",
       "      <td>NaN</td>\n",
       "    </tr>\n",
       "    <tr>\n",
       "      <th>43</th>\n",
       "      <td>1</td>\n",
       "      <td>3.121</td>\n",
       "      <td>36.89</td>\n",
       "      <td>0</td>\n",
       "      <td>20</td>\n",
       "      <td>4.1</td>\n",
       "      <td>10</td>\n",
       "      <td>NaN</td>\n",
       "      <td>NaN</td>\n",
       "      <td>NaN</td>\n",
       "      <td>NaN</td>\n",
       "    </tr>\n",
       "    <tr>\n",
       "      <th>44</th>\n",
       "      <td>1</td>\n",
       "      <td>4.698</td>\n",
       "      <td>40.65</td>\n",
       "      <td>0</td>\n",
       "      <td>8</td>\n",
       "      <td>-1.8</td>\n",
       "      <td>20</td>\n",
       "      <td>NaN</td>\n",
       "      <td>NaN</td>\n",
       "      <td>NaN</td>\n",
       "      <td>NaN</td>\n",
       "    </tr>\n",
       "    <tr>\n",
       "      <th>45</th>\n",
       "      <td>1</td>\n",
       "      <td>-0.328</td>\n",
       "      <td>49.64</td>\n",
       "      <td>0</td>\n",
       "      <td>18</td>\n",
       "      <td>0.5</td>\n",
       "      <td>6</td>\n",
       "      <td>NaN</td>\n",
       "      <td>NaN</td>\n",
       "      <td>NaN</td>\n",
       "      <td>NaN</td>\n",
       "    </tr>\n",
       "    <tr>\n",
       "      <th>46</th>\n",
       "      <td>1</td>\n",
       "      <td>5.216</td>\n",
       "      <td>44.49</td>\n",
       "      <td>1</td>\n",
       "      <td>11</td>\n",
       "      <td>3.2</td>\n",
       "      <td>28</td>\n",
       "      <td>NaN</td>\n",
       "      <td>NaN</td>\n",
       "      <td>NaN</td>\n",
       "      <td>NaN</td>\n",
       "    </tr>\n",
       "    <tr>\n",
       "      <th>47</th>\n",
       "      <td>1</td>\n",
       "      <td>-2.111</td>\n",
       "      <td>51.31</td>\n",
       "      <td>0</td>\n",
       "      <td>25</td>\n",
       "      <td>2.6</td>\n",
       "      <td>-1</td>\n",
       "      <td>NaN</td>\n",
       "      <td>NaN</td>\n",
       "      <td>NaN</td>\n",
       "      <td>NaN</td>\n",
       "    </tr>\n",
       "    <tr>\n",
       "      <th>48</th>\n",
       "      <td>1</td>\n",
       "      <td>6.804</td>\n",
       "      <td>36.12</td>\n",
       "      <td>0</td>\n",
       "      <td>24</td>\n",
       "      <td>3.0</td>\n",
       "      <td>25</td>\n",
       "      <td>NaN</td>\n",
       "      <td>NaN</td>\n",
       "      <td>NaN</td>\n",
       "      <td>NaN</td>\n",
       "    </tr>\n",
       "    <tr>\n",
       "      <th>49</th>\n",
       "      <td>1</td>\n",
       "      <td>5.643</td>\n",
       "      <td>39.06</td>\n",
       "      <td>0</td>\n",
       "      <td>35</td>\n",
       "      <td>-1.9</td>\n",
       "      <td>34</td>\n",
       "      <td>NaN</td>\n",
       "      <td>NaN</td>\n",
       "      <td>NaN</td>\n",
       "      <td>NaN</td>\n",
       "    </tr>\n",
       "  </tbody>\n",
       "</table>\n",
       "</div>"
      ],
      "text/plain": [
       "    X0     X1     X2  X3  X4   X5   y  Unnamed: 7  Unnamed: 8  Unnamed: 9  \\\n",
       "0    1  5.768  62.55   0  28  2.6  28         NaN         NaN         NaN   \n",
       "1    1  8.949  66.91   0  27 -2.0  46         NaN         NaN         NaN   \n",
       "2    1  1.024  34.42   0  20 -3.4  14         NaN         NaN         NaN   \n",
       "3    1  4.534  47.93   0  10  1.1  17         NaN         NaN         NaN   \n",
       "4    1  8.641  35.26   0  30  3.8  32         NaN         NaN         NaN   \n",
       "5    1  1.063  42.14   0   6 -2.1   8         NaN         NaN         NaN   \n",
       "6    1  5.306  39.80   0  29 -1.8  30         NaN         NaN         NaN   \n",
       "7    1  4.309  36.14   0  12 -3.4  22         NaN         NaN         NaN   \n",
       "8    1  3.739  44.53   0  39  1.9  24         NaN         NaN         NaN   \n",
       "9    1  3.816  60.01   0  10 -3.4  24         NaN         NaN         NaN   \n",
       "10   1  8.539  36.90   0  31 -3.0  43         NaN         NaN         NaN   \n",
       "11   1  7.129  35.77   0  38  3.5  30         NaN         NaN         NaN   \n",
       "12   1  4.249  37.17   0  23  0.8  20         NaN         NaN         NaN   \n",
       "13   1 -2.990  42.41   0  20 -3.1   2         NaN         NaN         NaN   \n",
       "14   1  0.356  57.67   0  26 -3.8  19         NaN         NaN         NaN   \n",
       "15   1  5.487  35.25   0  10 -2.8  24         NaN         NaN         NaN   \n",
       "16   1  5.699  62.15   0  13  2.4  22         NaN         NaN         NaN   \n",
       "17   1 -0.373  38.38   1  42  2.0  23         NaN         NaN         NaN   \n",
       "18   1  3.900  40.53   0  23 -2.5  25         NaN         NaN         NaN   \n",
       "19   1  3.616  35.91   1  16  3.1  23         NaN         NaN         NaN   \n",
       "20   1  9.103  59.60   0  14  2.2  34         NaN         NaN         NaN   \n",
       "21   1  2.714  43.54   0  37  2.1  19         NaN         NaN         NaN   \n",
       "22   1  6.885  35.66   1  20 -3.7  46         NaN         NaN         NaN   \n",
       "23   1 -0.850  43.94   1  31 -3.2  26         NaN         NaN         NaN   \n",
       "24   1  5.511  58.96   0   6 -3.8  28         NaN         NaN         NaN   \n",
       "25   1  5.225  45.25   0  24 -1.3  28         NaN         NaN         NaN   \n",
       "26   1  7.982  43.71   0  27  2.0  33         NaN         NaN         NaN   \n",
       "27   1  4.361  52.71   0  22 -2.5  28         NaN         NaN         NaN   \n",
       "28   1  2.853  51.12   0  42  2.3  22         NaN         NaN         NaN   \n",
       "29   1  2.777  38.60   1  24 -2.5  33         NaN         NaN         NaN   \n",
       "30   1  1.977  49.07   0  41 -3.6  28         NaN         NaN         NaN   \n",
       "31   1  3.784  45.44   0  12 -1.9  20         NaN         NaN         NaN   \n",
       "32   1  3.043  62.50   0  25 -1.9  25         NaN         NaN         NaN   \n",
       "33   1  5.618  52.44   0  27  1.1  28         NaN         NaN         NaN   \n",
       "34   1  7.374  38.25   0  36  3.1  31         NaN         NaN         NaN   \n",
       "35   1  3.090  56.77   0  49 -1.7  33         NaN         NaN         NaN   \n",
       "36   1  6.178  61.51   1   6 -2.5  41         NaN         NaN         NaN   \n",
       "37   1  4.605  58.22   0  41  0.2  32         NaN         NaN         NaN   \n",
       "38   1  1.968  65.84   0  76  3.5  33         NaN         NaN         NaN   \n",
       "39   1  3.610  45.18   1  43  2.5  36         NaN         NaN         NaN   \n",
       "40   1  9.896  65.18   0  69  2.3  58         NaN         NaN         NaN   \n",
       "41   1 -0.256  53.70   0  13  0.3   5         NaN         NaN         NaN   \n",
       "42   1  4.545  39.25   1  18  2.2  29         NaN         NaN         NaN   \n",
       "43   1  3.121  36.89   0  20  4.1  10         NaN         NaN         NaN   \n",
       "44   1  4.698  40.65   0   8 -1.8  20         NaN         NaN         NaN   \n",
       "45   1 -0.328  49.64   0  18  0.5   6         NaN         NaN         NaN   \n",
       "46   1  5.216  44.49   1  11  3.2  28         NaN         NaN         NaN   \n",
       "47   1 -2.111  51.31   0  25  2.6  -1         NaN         NaN         NaN   \n",
       "48   1  6.804  36.12   0  24  3.0  25         NaN         NaN         NaN   \n",
       "49   1  5.643  39.06   0  35 -1.9  34         NaN         NaN         NaN   \n",
       "\n",
       "    Unnamed: 10  \n",
       "0           NaN  \n",
       "1           NaN  \n",
       "2           NaN  \n",
       "3           NaN  \n",
       "4           NaN  \n",
       "5           NaN  \n",
       "6           NaN  \n",
       "7           NaN  \n",
       "8           NaN  \n",
       "9           NaN  \n",
       "10          NaN  \n",
       "11          NaN  \n",
       "12          NaN  \n",
       "13          NaN  \n",
       "14          NaN  \n",
       "15          NaN  \n",
       "16          NaN  \n",
       "17          NaN  \n",
       "18          NaN  \n",
       "19          NaN  \n",
       "20          NaN  \n",
       "21          NaN  \n",
       "22          NaN  \n",
       "23          NaN  \n",
       "24          NaN  \n",
       "25          NaN  \n",
       "26          NaN  \n",
       "27          NaN  \n",
       "28          NaN  \n",
       "29          NaN  \n",
       "30          NaN  \n",
       "31          NaN  \n",
       "32          NaN  \n",
       "33          NaN  \n",
       "34          NaN  \n",
       "35          NaN  \n",
       "36          NaN  \n",
       "37          NaN  \n",
       "38          NaN  \n",
       "39          NaN  \n",
       "40          NaN  \n",
       "41          NaN  \n",
       "42          NaN  \n",
       "43          NaN  \n",
       "44          NaN  \n",
       "45          NaN  \n",
       "46          NaN  \n",
       "47          NaN  \n",
       "48          NaN  \n",
       "49          NaN  "
      ]
     },
     "execution_count": 101,
     "metadata": {},
     "output_type": "execute_result"
    }
   ],
   "source": [
    "data = pd.read_csv('NumpyExerciseData.csv')\n",
    "data"
   ]
  },
  {
   "cell_type": "code",
   "execution_count": 102,
   "id": "811a4414",
   "metadata": {},
   "outputs": [
    {
     "data": {
      "text/plain": [
       "(50, 11)"
      ]
     },
     "execution_count": 102,
     "metadata": {},
     "output_type": "execute_result"
    }
   ],
   "source": [
    "data.shape"
   ]
  },
  {
   "cell_type": "code",
   "execution_count": 103,
   "id": "9d9e3470",
   "metadata": {},
   "outputs": [],
   "source": [
    "np_Arr = data.to_numpy()"
   ]
  },
  {
   "cell_type": "code",
   "execution_count": 104,
   "id": "96e8266c",
   "metadata": {},
   "outputs": [
    {
     "data": {
      "text/plain": [
       "(50, 11)"
      ]
     },
     "execution_count": 104,
     "metadata": {},
     "output_type": "execute_result"
    }
   ],
   "source": [
    "np_Arr.shape"
   ]
  },
  {
   "cell_type": "markdown",
   "id": "3afaa3b7",
   "metadata": {},
   "source": [
    "Newton Method\n",
    "Perform this matrix computation -> ((X'X)^-1)*X'y, use only X and y values from rows 2 to 41"
   ]
  },
  {
   "cell_type": "code",
   "execution_count": 105,
   "id": "04185f94",
   "metadata": {},
   "outputs": [
    {
     "name": "stdout",
     "output_type": "stream",
     "text": [
      "Shape 'X' Values (Train) :  (42, 6)\n",
      "Shape 'y' Value (Train) :  (42, 1)\n",
      "Shape 'X' Values (Test) :  (42, 6)\n",
      "Shape 'y' Value (Test) :  (42, 1)\n"
     ]
    }
   ],
   "source": [
    "#Train-test Split\n",
    "train_Arr = np_Arr[:42,0:6] #X Values\n",
    "train_Y = np_Arr[:42,6:7] #y column\n",
    "print(\"Shape 'X' Values (Train) : \",train_Arr.shape)\n",
    "print(\"Shape 'y' Value (Train) : \",train_Y.shape)\n",
    "\n",
    "test_Arr = np_Arr[43:,0:6] \n",
    "test_Y = np_Arr[43:,6:7]\n",
    "print(\"Shape 'X' Values (Test) : \",train_Arr.shape)\n",
    "print(\"Shape 'y' Value (Test) : \",train_Y.shape)\n"
   ]
  },
  {
   "cell_type": "code",
   "execution_count": 106,
   "id": "0345b719",
   "metadata": {},
   "outputs": [
    {
     "data": {
      "text/plain": [
       "(6, 42)"
      ]
     },
     "execution_count": 106,
     "metadata": {},
     "output_type": "execute_result"
    }
   ],
   "source": [
    "# X'\n",
    "train_Trans = train_Arr.transpose()\n",
    "train_Trans.shape"
   ]
  },
  {
   "cell_type": "code",
   "execution_count": 107,
   "id": "05883b46",
   "metadata": {},
   "outputs": [
    {
     "data": {
      "text/plain": [
       "(6, 7)"
      ]
     },
     "execution_count": 107,
     "metadata": {},
     "output_type": "execute_result"
    }
   ],
   "source": [
    "test_Trans = test_Arr.transpose()\n",
    "test_Trans.shape"
   ]
  },
  {
   "cell_type": "code",
   "execution_count": 108,
   "id": "4e738567",
   "metadata": {},
   "outputs": [
    {
     "data": {
      "text/plain": [
       "(6, 6)"
      ]
     },
     "execution_count": 108,
     "metadata": {},
     "output_type": "execute_result"
    }
   ],
   "source": [
    "#Inverse\n",
    "train_Inv = la.inv(np.dot(train_Trans,train_Arr))\n",
    "train_Inv.shape"
   ]
  },
  {
   "cell_type": "markdown",
   "id": "d190c605",
   "metadata": {},
   "source": [
    "Weight - Newton's Method"
   ]
  },
  {
   "cell_type": "code",
   "execution_count": 109,
   "id": "8fb423be",
   "metadata": {},
   "outputs": [
    {
     "data": {
      "text/plain": [
       "array([[-7.81255606],\n",
       "       [ 3.26009384],\n",
       "       [ 0.16690469],\n",
       "       [12.18239059],\n",
       "       [ 0.38161309],\n",
       "       [-1.5843724 ]])"
      ]
     },
     "execution_count": 109,
     "metadata": {},
     "output_type": "execute_result"
    }
   ],
   "source": [
    "# ((X'X)^-1)*X'y\n",
    "w = np.dot(train_Inv,np.dot(train_Trans,train_Y))\n",
    "w"
   ]
  },
  {
   "cell_type": "code",
   "execution_count": 110,
   "id": "09084bff",
   "metadata": {},
   "outputs": [
    {
     "name": "stdout",
     "output_type": "stream",
     "text": [
      "(6, 42)\n",
      "[[ 6.98784524e-01 -1.36572910e-02 -1.08940206e-02 -1.17233989e-01\n",
      "  -2.48840513e-03  1.40406328e-02]\n",
      " [-1.36572910e-02  3.32700514e-03 -8.64950521e-05  3.92057018e-03\n",
      "   8.75994966e-05 -1.26040786e-03]\n",
      " [-1.08940206e-02 -8.64950521e-05  2.49512745e-04  1.44798576e-03\n",
      "  -3.47021598e-05  7.48545978e-05]\n",
      " [-1.17233989e-01  3.92057018e-03  1.44798576e-03  1.86040503e-01\n",
      "  -1.57825891e-05 -5.53822334e-04]\n",
      " [-2.48840513e-03  8.75994966e-05 -3.47021598e-05 -1.57825891e-05\n",
      "   1.34016398e-04 -3.73740932e-04]\n",
      " [ 1.40406328e-02 -1.26040786e-03  7.48545978e-05 -5.53822334e-04\n",
      "  -3.73740932e-04  4.94203097e-03]]\n",
      "(42, 1)\n"
     ]
    }
   ],
   "source": [
    "print(train_Trans.shape)\n",
    "print(train_Inv)\n",
    "print(train_Y.shape)"
   ]
  },
  {
   "cell_type": "markdown",
   "id": "75593392",
   "metadata": {},
   "source": [
    "Y Value Prediction - Newton's Method"
   ]
  },
  {
   "cell_type": "code",
   "execution_count": 111,
   "id": "7168cd1d",
   "metadata": {},
   "outputs": [
    {
     "name": "stdout",
     "output_type": "stream",
     "text": [
      "[[27.99735178]\n",
      " [46.0019147 ]\n",
      " [14.28976738]\n",
      " [17.04177241]\n",
      " [31.67075174]\n",
      " [ 8.30314785]\n",
      " [30.04695842]\n",
      " [22.233347  ]\n",
      " [23.68180355]\n",
      " [23.84690947]\n",
      " [42.76729129]\n",
      " [30.35482768]\n",
      " [19.75303311]\n",
      " [ 2.06200743]\n",
      " [18.9159862 ]\n",
      " [24.21134276]\n",
      " [22.29832155]\n",
      " [22.41862645]\n",
      " [24.40448903]\n",
      " [23.34613623]\n",
      " [33.66856162]\n",
      " [19.09487106]\n",
      " [46.26184153]\n",
      " [25.83254426]\n",
      " [28.30481522]\n",
      " [27.99226972]\n",
      " [32.63972557]\n",
      " [27.55867831]\n",
      " [22.40435261]\n",
      " [32.98528128]\n",
      " [28.17253988]\n",
      " [19.69745273]\n",
      " [25.09008735]\n",
      " [27.81587681]\n",
      " [31.43799708]\n",
      " [33.12878759]\n",
      " [41.02761124]\n",
      " [32.24662927]\n",
      " [33.04960476]\n",
      " [36.12795901]\n",
      " [58.01542692]\n",
      " [ 4.80130013]]\n",
      "[[ 9.65564574]\n",
      " [20.19281545]\n",
      " [ 5.48013131]\n",
      " [27.92782592]\n",
      " [-0.7097756 ]\n",
      " [24.80331676]\n",
      " [33.47021636]]\n"
     ]
    }
   ],
   "source": [
    "y_Train_Pred = np.dot(train_Arr,w)\n",
    "y_Test_Pred = np.dot(test_Arr,w)\n",
    "print(y_Train_Pred)\n",
    "print(y_Test_Pred)"
   ]
  },
  {
   "cell_type": "markdown",
   "id": "320e5fc2",
   "metadata": {},
   "source": [
    "Error Computation (both Training and Test Error)\n",
    "Generate y values from the new generated w values\n",
    "Compute the SSR, MSR and RMSE between the generated y values and the actual values both for the data from rows 2 to 41 and the data from rows 43 to 51"
   ]
  },
  {
   "cell_type": "code",
   "execution_count": 112,
   "id": "f2682c84",
   "metadata": {},
   "outputs": [
    {
     "name": "stdout",
     "output_type": "stream",
     "text": [
      "SSR - Newton's Method (Train) :  2.9540159678699496\n",
      "SSR - Newton's Method (Test) :  0.834815415560693\n"
     ]
    }
   ],
   "source": [
    "newt_ssr_train = np.sum(np.power(np.subtract(train_Y,y_Train_Pred),2))\n",
    "newt_ssr_test = np.sum(np.power(np.subtract(test_Y,y_Test_Pred),2))\n",
    "print(\"SSR - Newton's Method (Train) : \",newt_ssr_train)\n",
    "print(\"SSR - Newton's Method (Test) : \",newt_ssr_test)"
   ]
  },
  {
   "cell_type": "code",
   "execution_count": 113,
   "id": "bdb8467d",
   "metadata": {},
   "outputs": [
    {
     "name": "stdout",
     "output_type": "stream",
     "text": [
      "MSR - Newton's Method (Train) :  0.07033371352071309\n",
      "MSR - Newton's Method (Test) :  0.11925934508009901\n"
     ]
    }
   ],
   "source": [
    "# MSR and RMSE\n",
    "newt_msr_train = np.mean(np.power(np.subtract(train_Y,y_Train_Pred),2))\n",
    "newt_msr_test = np.mean(np.power(np.subtract(test_Y,y_Test_Pred),2))\n",
    "print(\"MSR - Newton's Method (Train) : \",newt_msr_train)\n",
    "print(\"MSR - Newton's Method (Test) : \",newt_msr_test)"
   ]
  },
  {
   "cell_type": "code",
   "execution_count": 114,
   "id": "ec71762d",
   "metadata": {},
   "outputs": [
    {
     "name": "stdout",
     "output_type": "stream",
     "text": [
      "RMSE - Newton's Method (Train) :  0.2652050405265954\n",
      "RMSE - Newton's Method (Test) :  0.3453394635429015\n"
     ]
    }
   ],
   "source": [
    "newt_rmse_train = np.sqrt(newt_msr_train)\n",
    "newt_rmse_test = np.sqrt(newt_msr_test)\n",
    "print(\"RMSE - Newton's Method (Train) : \",newt_rmse_train)\n",
    "print(\"RMSE - Newton's Method (Test) : \",newt_rmse_test)"
   ]
  },
  {
   "cell_type": "markdown",
   "id": "a00e2b66",
   "metadata": {},
   "source": [
    "Regularized Newton\n",
    "Next step perform the matrix computation -> ((X'X+lambda*I)^-1)*X'y, using only X and y values from rows 2 to 41\n",
    "Use lambda as 0.17\n",
    "Compute and report both training and test errors for the regularized newton computation"
   ]
  },
  {
   "cell_type": "code",
   "execution_count": 115,
   "id": "5087bd98",
   "metadata": {},
   "outputs": [
    {
     "name": "stdout",
     "output_type": "stream",
     "text": [
      "Regularized Newton's Method - Weights :  [[-6.76458303]\n",
      " [ 3.23443812]\n",
      " [ 0.15156595]\n",
      " [11.6759603 ]\n",
      " [ 0.37862746]\n",
      " [-1.5650966 ]]\n"
     ]
    }
   ],
   "source": [
    "# ((X'X+lambda*I)^-1)*X'y\n",
    "reg_Newt_Train_W = np.dot(la.inv(np.add(np.dot(train_Trans,train_Arr),np.dot(0.17,np.identity(train_Arr.shape[1])))),np.dot(train_Trans,train_Y))\n",
    "print(\"Regularized Newton's Method - Weights : \",reg_Newt_Train_W)"
   ]
  },
  {
   "cell_type": "code",
   "execution_count": 116,
   "id": "7ff6cea5",
   "metadata": {},
   "outputs": [
    {
     "name": "stdout",
     "output_type": "stream",
     "text": [
      "Y - Prediction - Regularized Newton's Method :  [[27.90442388]\n",
      " [45.67481598]\n",
      " [14.65825923]\n",
      " [17.22958364]\n",
      " [31.93986893]\n",
      " [ 8.61908135]\n",
      " [30.22704069]\n",
      " [22.51506218]\n",
      " [23.8710003 ]\n",
      " [23.78110841]\n",
      " [42.87980875]\n",
      " [30.62524582]\n",
      " [20.0686052 ]\n",
      " [ 2.41670754]\n",
      " [18.91936626]\n",
      " [24.49402371]\n",
      " [22.25422863]\n",
      " [22.2941932 ]\n",
      " [24.61386666]\n",
      " [23.25607865]\n",
      " [33.56940962]\n",
      " [19.33537669]\n",
      " [45.94873213]\n",
      " [25.5676731 ]\n",
      " [28.21586557]\n",
      " [28.11539999]\n",
      " [32.77039794]\n",
      " [27.57238841]\n",
      " [22.51395146]\n",
      " [32.74365814]\n",
      " [28.22531596]\n",
      " [19.87890057]\n",
      " [24.99005401]\n",
      " [27.85594388]\n",
      " [31.66235042]\n",
      " [33.04763956]\n",
      " [40.40106368]\n",
      " [32.16488068]\n",
      " [32.87774233]\n",
      " [35.80368785]\n",
      " [57.64805792]\n",
      " [ 4.99912022]]\n",
      "Y - Prediction - Regularized Newton's Method :  [[10.07701936]\n",
      " [20.43815661]\n",
      " [ 5.73100093]\n",
      " [27.68196849]\n",
      " [-0.41919772]\n",
      " [25.1088653 ]\n",
      " [33.63316198]]\n"
     ]
    }
   ],
   "source": [
    "y_Reg_Newt_Train_Pred = np.dot(train_Arr,reg_Newt_Train_W)\n",
    "y_Reg_Newt_Test_Pred = np.dot(test_Arr,reg_Newt_Train_W)\n",
    "print(\"Y - Prediction - Regularized Newton's Method : \",y_Reg_Newt_Train_Pred)\n",
    "print(\"Y - Prediction - Regularized Newton's Method : \",y_Reg_Newt_Test_Pred)\n"
   ]
  },
  {
   "cell_type": "markdown",
   "id": "46f409d0",
   "metadata": {},
   "source": [
    "Compute R-squared values for both Newton and Regularized Newton on both train and test datasets\n",
    "Look up how to compute R-squared values in excel"
   ]
  },
  {
   "cell_type": "code",
   "execution_count": 117,
   "id": "ee6a4151",
   "metadata": {},
   "outputs": [
    {
     "name": "stdout",
     "output_type": "stream",
     "text": [
      "SSR - Regularized Newton's Method (Train) :  5.184206219816345\n",
      "SSR - Regularized Newton's Method (Test) :  0.8551708105164406\n"
     ]
    }
   ],
   "source": [
    "ssr_reg_train= np.sum(np.power(np.subtract(train_Y,y_Reg_Newt_Train_Pred),2))\n",
    "ssr_reg_test = np.sum(np.power(np.subtract(test_Y,y_Reg_Newt_Test_Pred),2))\n",
    "print(\"SSR - Regularized Newton's Method (Train) : \",ssr_reg_train)\n",
    "print(\"SSR - Regularized Newton's Method (Test) : \",ssr_reg_test)"
   ]
  },
  {
   "cell_type": "code",
   "execution_count": 118,
   "id": "a9b4b9b0",
   "metadata": {},
   "outputs": [
    {
     "name": "stdout",
     "output_type": "stream",
     "text": [
      "SST - Regularized Newton's Method (Train) :  4605.071428571428\n",
      "SST - Regularized Newton's Method (Test) :  975.7142857142856\n"
     ]
    }
   ],
   "source": [
    "sst_train = np.sum(np.power(train_Y-np.mean(train_Y),2))\n",
    "sst_test = np.sum(np.power(test_Y-np.mean(test_Y),2))\n",
    "print(\"SST - Regularized Newton's Method (Train) : \",sst_train)\n",
    "print(\"SST - Regularized Newton's Method (Test) : \",sst_test)\n"
   ]
  },
  {
   "cell_type": "code",
   "execution_count": 119,
   "id": "e23c4496",
   "metadata": {},
   "outputs": [
    {
     "name": "stdout",
     "output_type": "stream",
     "text": [
      "R-Squared - Newton's Method (Train) :  0.9993585298265859\n",
      "R-Squared - Newton's Method (Test) :  0.99914440586985\n"
     ]
    }
   ],
   "source": [
    "R_squared_Newt_Train = 1 - (newt_ssr_train / sst_train) #For Newton Train Set\n",
    "R_squared_Newt_Test = 1 - (newt_ssr_test / sst_test) \n",
    "print(\"R-Squared - Newton's Method (Train) : \",R_squared_Newt_Train)\n",
    "print(\"R-Squared - Newton's Method (Test) : \",R_squared_Newt_Test)"
   ]
  },
  {
   "cell_type": "code",
   "execution_count": 120,
   "id": "ceba7ab7",
   "metadata": {},
   "outputs": [
    {
     "name": "stdout",
     "output_type": "stream",
     "text": [
      "R-Squared - Regularized Newton's Method (Train) :  0.9988742397810266\n",
      "R-Squared - Regularized Newton's Method (Test) :  0.9991235438252394\n"
     ]
    }
   ],
   "source": [
    "R_squared_Newt_Reg_Train= 1 - (ssr_reg_train / sst_train) #For Regularized Newton Train Set\n",
    "R_squared_Newt_Reg_Test = 1 - (ssr_reg_test / sst_test)\n",
    "print(\"R-Squared - Regularized Newton's Method (Train) : \",R_squared_Newt_Reg_Train)\n",
    "print(\"R-Squared - Regularized Newton's Method (Test) : \",R_squared_Newt_Reg_Test)\n"
   ]
  },
  {
   "cell_type": "markdown",
   "id": "9859b8ed",
   "metadata": {},
   "source": [
    "Let's try some more things\n",
    "For each of the below report the following, MSR on train, MSR on test, R-squared on train and R-squared on test\n",
    "1. Use only rows 2 to 41 for training and rows 42 to 51 for testing and lambda as 0.83\n",
    "2. Use only rows 2 to 26 for training and rows 27 to 51 for testing and lambda as 0.17\n",
    "3. Use only rows 2 to 26 for training and rows 27 to 51 for testing and lambda as 0.83\n",
    "4. Use only rows 2 to 11 for training and rows 12 to 51 for testing and lambda as 0.17\n",
    "5. Use only rows 2 to 11 for training and rows 12 to 51 for testing and lambda as 0.83"
   ]
  },
  {
   "cell_type": "code",
   "execution_count": 121,
   "id": "7b91d994",
   "metadata": {},
   "outputs": [
    {
     "name": "stdout",
     "output_type": "stream",
     "text": [
      "Shape 'X' Values (Train) :  (42, 6)\n",
      "Shape 'y' Value (Train) :  (42, 1)\n",
      "Shape 'X' Values (Test) :  (42, 6)\n",
      "Shape 'y' Value (Test) :  (42, 1)\n"
     ]
    }
   ],
   "source": [
    "train_Arr = np_Arr[:42,0:6] #X Values\n",
    "train_Y = np_Arr[:42,6:7] #y column\n",
    "print(\"Shape 'X' Values (Train) : \",train_Arr.shape)\n",
    "print(\"Shape 'y' Value (Train) : \",train_Y.shape)\n",
    "\n",
    "test_Arr = np_Arr[43:,0:6] \n",
    "test_Y = np_Arr[43:,6:7]\n",
    "print(\"Shape 'X' Values (Test) : \",train_Arr.shape)\n",
    "print(\"Shape 'y' Value (Test) : \",train_Y.shape)"
   ]
  },
  {
   "cell_type": "markdown",
   "id": "42e0d7ea",
   "metadata": {},
   "source": []
  },
  {
   "cell_type": "code",
   "execution_count": 122,
   "id": "fa727043",
   "metadata": {},
   "outputs": [
    {
     "name": "stdout",
     "output_type": "stream",
     "text": [
      "For lambda :  0.83\n",
      "(6, 42)\n",
      "(42, 6)\n",
      "MSR - Newton's Method (Train) :  0.07033371352071309\n",
      "MSR - Newton's Method (Test) :  0.10619375965188434\n",
      "R-Squared - Newton's Method (Train) :  0.9993585298265859\n",
      "R-Squared - Newton's Method (Test) :  0.9992226466181264\n",
      "R-Squared - Regularized Newton's Method (Train) :  0.992891310755084\n",
      "R-Squared - Regularized Newton's Method (Test) :  0.9936205259861491\n",
      "For lambda :  0.17\n",
      "(6, 27)\n",
      "(27, 6)\n",
      "MSR - Newton's Method (Train) :  0.059632699715716116\n",
      "MSR - Newton's Method (Test) :  0.19537189790596818\n",
      "R-Squared - Newton's Method (Train) :  0.9993804196155756\n",
      "R-Squared - Newton's Method (Test) :  0.9987379199659023\n",
      "R-Squared - Regularized Newton's Method (Train) :  0.9979202076505581\n",
      "R-Squared - Regularized Newton's Method (Test) :  0.998555815419833\n",
      "For lambda :  0.83\n",
      "(6, 27)\n",
      "(27, 6)\n",
      "MSR - Newton's Method (Train) :  0.059632699715716116\n",
      "MSR - Newton's Method (Test) :  0.19537189790596818\n",
      "R-Squared - Newton's Method (Train) :  0.9993804196155756\n",
      "R-Squared - Newton's Method (Test) :  0.9987379199659023\n",
      "R-Squared - Regularized Newton's Method (Train) :  0.9850805264901329\n",
      "R-Squared - Regularized Newton's Method (Test) :  0.986471359051066\n",
      "For lambda :  0.17\n",
      "(6, 12)\n",
      "(12, 6)\n"
     ]
    },
    {
     "ename": "LinAlgError",
     "evalue": "Singular matrix",
     "output_type": "error",
     "traceback": [
      "\u001b[1;31m---------------------------------------------------------------------------\u001b[0m",
      "\u001b[1;31mLinAlgError\u001b[0m                               Traceback (most recent call last)",
      "Cell \u001b[1;32mIn[122], line 13\u001b[0m\n\u001b[0;32m     11\u001b[0m \u001b[38;5;28mprint\u001b[39m(train_Trans\u001b[38;5;241m.\u001b[39mshape)\n\u001b[0;32m     12\u001b[0m \u001b[38;5;28mprint\u001b[39m(train_Arr\u001b[38;5;241m.\u001b[39mshape)\n\u001b[1;32m---> 13\u001b[0m train_Inv \u001b[38;5;241m=\u001b[39m \u001b[43mla\u001b[49m\u001b[38;5;241;43m.\u001b[39;49m\u001b[43minv\u001b[49m\u001b[43m(\u001b[49m\u001b[43mnp\u001b[49m\u001b[38;5;241;43m.\u001b[39;49m\u001b[43mdot\u001b[49m\u001b[43m(\u001b[49m\u001b[43mtrain_Trans\u001b[49m\u001b[43m,\u001b[49m\u001b[43mtrain_Arr\u001b[49m\u001b[43m)\u001b[49m\u001b[43m)\u001b[49m\n\u001b[0;32m     14\u001b[0m w \u001b[38;5;241m=\u001b[39m np\u001b[38;5;241m.\u001b[39mdot(train_Inv,np\u001b[38;5;241m.\u001b[39mdot(train_Trans,train_Y))\n\u001b[0;32m     15\u001b[0m y_Train_Pred \u001b[38;5;241m=\u001b[39m np\u001b[38;5;241m.\u001b[39mdot(train_Arr,w)\n",
      "File \u001b[1;32mc:\\Users\\alenc\\AppData\\Local\\Programs\\Python\\Python312\\Lib\\site-packages\\numpy\\linalg\\linalg.py:561\u001b[0m, in \u001b[0;36minv\u001b[1;34m(a)\u001b[0m\n\u001b[0;32m    559\u001b[0m signature \u001b[38;5;241m=\u001b[39m \u001b[38;5;124m'\u001b[39m\u001b[38;5;124mD->D\u001b[39m\u001b[38;5;124m'\u001b[39m \u001b[38;5;28;01mif\u001b[39;00m isComplexType(t) \u001b[38;5;28;01melse\u001b[39;00m \u001b[38;5;124m'\u001b[39m\u001b[38;5;124md->d\u001b[39m\u001b[38;5;124m'\u001b[39m\n\u001b[0;32m    560\u001b[0m extobj \u001b[38;5;241m=\u001b[39m get_linalg_error_extobj(_raise_linalgerror_singular)\n\u001b[1;32m--> 561\u001b[0m ainv \u001b[38;5;241m=\u001b[39m \u001b[43m_umath_linalg\u001b[49m\u001b[38;5;241;43m.\u001b[39;49m\u001b[43minv\u001b[49m\u001b[43m(\u001b[49m\u001b[43ma\u001b[49m\u001b[43m,\u001b[49m\u001b[43m \u001b[49m\u001b[43msignature\u001b[49m\u001b[38;5;241;43m=\u001b[39;49m\u001b[43msignature\u001b[49m\u001b[43m,\u001b[49m\u001b[43m \u001b[49m\u001b[43mextobj\u001b[49m\u001b[38;5;241;43m=\u001b[39;49m\u001b[43mextobj\u001b[49m\u001b[43m)\u001b[49m\n\u001b[0;32m    562\u001b[0m \u001b[38;5;28;01mreturn\u001b[39;00m wrap(ainv\u001b[38;5;241m.\u001b[39mastype(result_t, copy\u001b[38;5;241m=\u001b[39m\u001b[38;5;28;01mFalse\u001b[39;00m))\n",
      "File \u001b[1;32mc:\\Users\\alenc\\AppData\\Local\\Programs\\Python\\Python312\\Lib\\site-packages\\numpy\\linalg\\linalg.py:112\u001b[0m, in \u001b[0;36m_raise_linalgerror_singular\u001b[1;34m(err, flag)\u001b[0m\n\u001b[0;32m    111\u001b[0m \u001b[38;5;28;01mdef\u001b[39;00m \u001b[38;5;21m_raise_linalgerror_singular\u001b[39m(err, flag):\n\u001b[1;32m--> 112\u001b[0m     \u001b[38;5;28;01mraise\u001b[39;00m LinAlgError(\u001b[38;5;124m\"\u001b[39m\u001b[38;5;124mSingular matrix\u001b[39m\u001b[38;5;124m\"\u001b[39m)\n",
      "\u001b[1;31mLinAlgError\u001b[0m: Singular matrix"
     ]
    }
   ],
   "source": [
    "lambda_Arr = np.array([0.83,0.17,0.83,0.17,0.83])\n",
    "new_Dict = {0:[2,41,42,51],1:[2,26,27,51],2:[2,26,27,51],3:[2,11,12,51],4:[2,11,12,51]}\n",
    "for i in range(len(lambda_Arr)):\n",
    "    print(\"For lambda : \",lambda_Arr[i])\n",
    "    train_Arr = np_Arr[:new_Dict[i][1]+1,0:6] #X Values\n",
    "    train_Y = np_Arr[:new_Dict[i][1]+1,6:7] #y column\n",
    "    test_Arr = np_Arr[new_Dict[i][2]:new_Dict[i][3]+1,0:6] \n",
    "    test_Y = np_Arr[new_Dict[i][2]:new_Dict[i][3]+1,6:7]\n",
    "    train_Trans = train_Arr.transpose()\n",
    "    test_Trans = test_Arr.transpose()\n",
    "    print(train_Trans.shape)\n",
    "    print(train_Arr.shape)\n",
    "    train_Inv = la.inv(np.dot(train_Trans,train_Arr))\n",
    "    w = np.dot(train_Inv,np.dot(train_Trans,train_Y))\n",
    "    y_Train_Pred = np.dot(train_Arr,w)\n",
    "    y_Test_Pred = np.dot(test_Arr,w)\n",
    "    newt_ssr_train = np.sum(np.power(np.subtract(train_Y,y_Train_Pred),2))\n",
    "    newt_ssr_test = np.sum(np.power(np.subtract(test_Y,y_Test_Pred),2))\n",
    "    newt_msr_train = np.mean(np.power(np.subtract(train_Y,y_Train_Pred),2))\n",
    "    newt_msr_test = np.mean(np.power(np.subtract(test_Y,y_Test_Pred),2))\n",
    "    print(\"MSR - Newton's Method (Train) : \",newt_msr_train)\n",
    "    print(\"MSR - Newton's Method (Test) : \",newt_msr_test)\n",
    "    newt_rmse_train = np.sqrt(newt_msr_train)\n",
    "    newt_rmse_test = np.sqrt(newt_msr_test)\n",
    "    reg_Newt_Train_W = np.dot(np.linalg.inv(np.add(np.dot(train_Trans,train_Arr),np.dot(lambda_Arr[i],np.identity(train_Arr.shape[1])))),np.dot(train_Trans,train_Y))\n",
    "    y_Reg_Newt_Train_Pred = np.dot(train_Arr,reg_Newt_Train_W)\n",
    "    y_Reg_Newt_Test_Pred = np.dot(test_Arr,reg_Newt_Train_W)\n",
    "    ssr_reg_train= np.sum(np.power(np.subtract(train_Y,y_Reg_Newt_Train_Pred),2))\n",
    "    ssr_reg_test = np.sum(np.power(np.subtract(test_Y,y_Reg_Newt_Test_Pred),2))\n",
    "    sst_train = np.sum(np.power(train_Y-np.mean(train_Y),2))\n",
    "    sst_test = np.sum(np.power(test_Y-np.mean(test_Y),2))\n",
    "    R_squared_Newt_Train = 1 - (newt_ssr_train / sst_train) #For Newton Train Set\n",
    "    R_squared_Newt_Test = 1 - (newt_ssr_test / sst_test) \n",
    "    print(\"R-Squared - Newton's Method (Train) : \",R_squared_Newt_Train)\n",
    "    print(\"R-Squared - Newton's Method (Test) : \",R_squared_Newt_Test)\n",
    "    R_squared_Newt_Reg_Train= 1 - (ssr_reg_train / sst_train) #For Regularized Newton Train Set\n",
    "    R_squared_Newt_Reg_Test = 1 - (ssr_reg_test / sst_test)\n",
    "    print(\"R-Squared - Regularized Newton's Method (Train) : \",R_squared_Newt_Reg_Train)\n",
    "    print(\"R-Squared - Regularized Newton's Method (Test) : \",R_squared_Newt_Reg_Test)"
   ]
  },
  {
   "cell_type": "markdown",
   "id": "bb2b3905",
   "metadata": {},
   "source": [
    "Error Explanation:\n",
    "A square matrix that does not have a matrix inverse.\n",
    "A matrix is singular iff its determinant is 0."
   ]
  }
 ],
 "metadata": {
  "kernelspec": {
   "display_name": "Python 3 (ipykernel)",
   "language": "python",
   "name": "python3"
  },
  "language_info": {
   "codemirror_mode": {
    "name": "ipython",
    "version": 3
   },
   "file_extension": ".py",
   "mimetype": "text/x-python",
   "name": "python",
   "nbconvert_exporter": "python",
   "pygments_lexer": "ipython3",
   "version": "3.12.3"
  }
 },
 "nbformat": 4,
 "nbformat_minor": 5
}
